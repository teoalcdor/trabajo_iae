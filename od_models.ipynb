{
  "cells": [
    {
      "cell_type": "markdown",
      "metadata": {
        "id": "view-in-github",
        "colab_type": "text"
      },
      "source": [
        "<a href=\"https://colab.research.google.com/github/teoalcdor/trabajo_iae/blob/main/od_models.ipynb\" target=\"_parent\"><img src=\"https://colab.research.google.com/assets/colab-badge.svg\" alt=\"Open In Colab\"/></a>"
      ]
    },
    {
      "cell_type": "markdown",
      "id": "9b80a3ca-ec55-4b5e-a4e4-7d7388a61804",
      "metadata": {
        "id": "9b80a3ca-ec55-4b5e-a4e4-7d7388a61804"
      },
      "source": [
        "# Modelos de Detección de Objetos"
      ]
    },
    {
      "cell_type": "markdown",
      "id": "ae37bd72-f9d0-4dda-aff2-2073a8330b6a",
      "metadata": {
        "id": "ae37bd72-f9d0-4dda-aff2-2073a8330b6a"
      },
      "source": [
        "Para la tarea de detección de objetos vamos a utilizar los modelos SSD3000 y YOLOv5. Los descargaremos ya pre-entrenado, y les haremos *transfer learning*."
      ]
    },
    {
      "cell_type": "markdown",
      "id": "c85020e5-1f7c-4ff0-bdf0-035532f13b70",
      "metadata": {
        "id": "c85020e5-1f7c-4ff0-bdf0-035532f13b70"
      },
      "source": [
        "## Librerías"
      ]
    },
    {
      "cell_type": "code",
      "source": [
        "!pip install torchinfo\n",
        "!pip install torchmetrics\n",
        "!pip install ultralytics\n",
        "\n",
        "# Solo si se va a entrenar YOLOv5, instalar otra vez despues\n",
        "!pip uninstall -y albumentations"
      ],
      "metadata": {
        "colab": {
          "base_uri": "https://localhost:8080/"
        },
        "id": "qdkvmfH6Q94b",
        "outputId": "aed9770b-7b54-4618-d578-f55762840c65"
      },
      "execution_count": null,
      "outputs": [
        {
          "output_type": "stream",
          "name": "stdout",
          "text": [
            "Collecting torchinfo\n",
            "  Downloading torchinfo-1.8.0-py3-none-any.whl.metadata (21 kB)\n",
            "Downloading torchinfo-1.8.0-py3-none-any.whl (23 kB)\n",
            "Installing collected packages: torchinfo\n",
            "Successfully installed torchinfo-1.8.0\n",
            "Collecting torchmetrics\n",
            "  Downloading torchmetrics-1.7.1-py3-none-any.whl.metadata (21 kB)\n",
            "Requirement already satisfied: numpy>1.20.0 in /usr/local/lib/python3.11/dist-packages (from torchmetrics) (2.0.2)\n",
            "Requirement already satisfied: packaging>17.1 in /usr/local/lib/python3.11/dist-packages (from torchmetrics) (24.2)\n",
            "Requirement already satisfied: torch>=2.0.0 in /usr/local/lib/python3.11/dist-packages (from torchmetrics) (2.6.0+cu124)\n",
            "Collecting lightning-utilities>=0.8.0 (from torchmetrics)\n",
            "  Downloading lightning_utilities-0.14.3-py3-none-any.whl.metadata (5.6 kB)\n",
            "Requirement already satisfied: setuptools in /usr/local/lib/python3.11/dist-packages (from lightning-utilities>=0.8.0->torchmetrics) (75.2.0)\n",
            "Requirement already satisfied: typing_extensions in /usr/local/lib/python3.11/dist-packages (from lightning-utilities>=0.8.0->torchmetrics) (4.13.2)\n",
            "Requirement already satisfied: filelock in /usr/local/lib/python3.11/dist-packages (from torch>=2.0.0->torchmetrics) (3.18.0)\n",
            "Requirement already satisfied: networkx in /usr/local/lib/python3.11/dist-packages (from torch>=2.0.0->torchmetrics) (3.4.2)\n",
            "Requirement already satisfied: jinja2 in /usr/local/lib/python3.11/dist-packages (from torch>=2.0.0->torchmetrics) (3.1.6)\n",
            "Requirement already satisfied: fsspec in /usr/local/lib/python3.11/dist-packages (from torch>=2.0.0->torchmetrics) (2025.3.2)\n",
            "Collecting nvidia-cuda-nvrtc-cu12==12.4.127 (from torch>=2.0.0->torchmetrics)\n",
            "  Downloading nvidia_cuda_nvrtc_cu12-12.4.127-py3-none-manylinux2014_x86_64.whl.metadata (1.5 kB)\n",
            "Collecting nvidia-cuda-runtime-cu12==12.4.127 (from torch>=2.0.0->torchmetrics)\n",
            "  Downloading nvidia_cuda_runtime_cu12-12.4.127-py3-none-manylinux2014_x86_64.whl.metadata (1.5 kB)\n",
            "Collecting nvidia-cuda-cupti-cu12==12.4.127 (from torch>=2.0.0->torchmetrics)\n",
            "  Downloading nvidia_cuda_cupti_cu12-12.4.127-py3-none-manylinux2014_x86_64.whl.metadata (1.6 kB)\n",
            "Collecting nvidia-cudnn-cu12==9.1.0.70 (from torch>=2.0.0->torchmetrics)\n",
            "  Downloading nvidia_cudnn_cu12-9.1.0.70-py3-none-manylinux2014_x86_64.whl.metadata (1.6 kB)\n",
            "Collecting nvidia-cublas-cu12==12.4.5.8 (from torch>=2.0.0->torchmetrics)\n",
            "  Downloading nvidia_cublas_cu12-12.4.5.8-py3-none-manylinux2014_x86_64.whl.metadata (1.5 kB)\n",
            "Collecting nvidia-cufft-cu12==11.2.1.3 (from torch>=2.0.0->torchmetrics)\n",
            "  Downloading nvidia_cufft_cu12-11.2.1.3-py3-none-manylinux2014_x86_64.whl.metadata (1.5 kB)\n",
            "Collecting nvidia-curand-cu12==10.3.5.147 (from torch>=2.0.0->torchmetrics)\n",
            "  Downloading nvidia_curand_cu12-10.3.5.147-py3-none-manylinux2014_x86_64.whl.metadata (1.5 kB)\n",
            "Collecting nvidia-cusolver-cu12==11.6.1.9 (from torch>=2.0.0->torchmetrics)\n",
            "  Downloading nvidia_cusolver_cu12-11.6.1.9-py3-none-manylinux2014_x86_64.whl.metadata (1.6 kB)\n",
            "Collecting nvidia-cusparse-cu12==12.3.1.170 (from torch>=2.0.0->torchmetrics)\n",
            "  Downloading nvidia_cusparse_cu12-12.3.1.170-py3-none-manylinux2014_x86_64.whl.metadata (1.6 kB)\n",
            "Requirement already satisfied: nvidia-cusparselt-cu12==0.6.2 in /usr/local/lib/python3.11/dist-packages (from torch>=2.0.0->torchmetrics) (0.6.2)\n",
            "Requirement already satisfied: nvidia-nccl-cu12==2.21.5 in /usr/local/lib/python3.11/dist-packages (from torch>=2.0.0->torchmetrics) (2.21.5)\n",
            "Requirement already satisfied: nvidia-nvtx-cu12==12.4.127 in /usr/local/lib/python3.11/dist-packages (from torch>=2.0.0->torchmetrics) (12.4.127)\n",
            "Collecting nvidia-nvjitlink-cu12==12.4.127 (from torch>=2.0.0->torchmetrics)\n",
            "  Downloading nvidia_nvjitlink_cu12-12.4.127-py3-none-manylinux2014_x86_64.whl.metadata (1.5 kB)\n",
            "Requirement already satisfied: triton==3.2.0 in /usr/local/lib/python3.11/dist-packages (from torch>=2.0.0->torchmetrics) (3.2.0)\n",
            "Requirement already satisfied: sympy==1.13.1 in /usr/local/lib/python3.11/dist-packages (from torch>=2.0.0->torchmetrics) (1.13.1)\n",
            "Requirement already satisfied: mpmath<1.4,>=1.1.0 in /usr/local/lib/python3.11/dist-packages (from sympy==1.13.1->torch>=2.0.0->torchmetrics) (1.3.0)\n",
            "Requirement already satisfied: MarkupSafe>=2.0 in /usr/local/lib/python3.11/dist-packages (from jinja2->torch>=2.0.0->torchmetrics) (3.0.2)\n",
            "Downloading torchmetrics-1.7.1-py3-none-any.whl (961 kB)\n",
            "\u001b[2K   \u001b[90m━━━━━━━━━━━━━━━━━━━━━━━━━━━━━━━━━━━━━━━━\u001b[0m \u001b[32m961.5/961.5 kB\u001b[0m \u001b[31m15.7 MB/s\u001b[0m eta \u001b[36m0:00:00\u001b[0m\n",
            "\u001b[?25hDownloading lightning_utilities-0.14.3-py3-none-any.whl (28 kB)\n",
            "Downloading nvidia_cublas_cu12-12.4.5.8-py3-none-manylinux2014_x86_64.whl (363.4 MB)\n",
            "\u001b[2K   \u001b[90m━━━━━━━━━━━━━━━━━━━━━━━━━━━━━━━━━━━━━━━━\u001b[0m \u001b[32m363.4/363.4 MB\u001b[0m \u001b[31m3.9 MB/s\u001b[0m eta \u001b[36m0:00:00\u001b[0m\n",
            "\u001b[?25hDownloading nvidia_cuda_cupti_cu12-12.4.127-py3-none-manylinux2014_x86_64.whl (13.8 MB)\n",
            "\u001b[2K   \u001b[90m━━━━━━━━━━━━━━━━━━━━━━━━━━━━━━━━━━━━━━━━\u001b[0m \u001b[32m13.8/13.8 MB\u001b[0m \u001b[31m127.5 MB/s\u001b[0m eta \u001b[36m0:00:00\u001b[0m\n",
            "\u001b[?25hDownloading nvidia_cuda_nvrtc_cu12-12.4.127-py3-none-manylinux2014_x86_64.whl (24.6 MB)\n",
            "\u001b[2K   \u001b[90m━━━━━━━━━━━━━━━━━━━━━━━━━━━━━━━━━━━━━━━━\u001b[0m \u001b[32m24.6/24.6 MB\u001b[0m \u001b[31m95.9 MB/s\u001b[0m eta \u001b[36m0:00:00\u001b[0m\n",
            "\u001b[?25hDownloading nvidia_cuda_runtime_cu12-12.4.127-py3-none-manylinux2014_x86_64.whl (883 kB)\n",
            "\u001b[2K   \u001b[90m━━━━━━━━━━━━━━━━━━━━━━━━━━━━━━━━━━━━━━━━\u001b[0m \u001b[32m883.7/883.7 kB\u001b[0m \u001b[31m60.1 MB/s\u001b[0m eta \u001b[36m0:00:00\u001b[0m\n",
            "\u001b[?25hDownloading nvidia_cudnn_cu12-9.1.0.70-py3-none-manylinux2014_x86_64.whl (664.8 MB)\n",
            "\u001b[2K   \u001b[90m━━━━━━━━━━━━━━━━━━━━━━━━━━━━━━━━━━━━━━━━\u001b[0m \u001b[32m664.8/664.8 MB\u001b[0m \u001b[31m2.8 MB/s\u001b[0m eta \u001b[36m0:00:00\u001b[0m\n",
            "\u001b[?25hDownloading nvidia_cufft_cu12-11.2.1.3-py3-none-manylinux2014_x86_64.whl (211.5 MB)\n",
            "\u001b[2K   \u001b[90m━━━━━━━━━━━━━━━━━━━━━━━━━━━━━━━━━━━━━━━━\u001b[0m \u001b[32m211.5/211.5 MB\u001b[0m \u001b[31m5.5 MB/s\u001b[0m eta \u001b[36m0:00:00\u001b[0m\n",
            "\u001b[?25hDownloading nvidia_curand_cu12-10.3.5.147-py3-none-manylinux2014_x86_64.whl (56.3 MB)\n",
            "\u001b[2K   \u001b[90m━━━━━━━━━━━━━━━━━━━━━━━━━━━━━━━━━━━━━━━━\u001b[0m \u001b[32m56.3/56.3 MB\u001b[0m \u001b[31m13.0 MB/s\u001b[0m eta \u001b[36m0:00:00\u001b[0m\n",
            "\u001b[?25hDownloading nvidia_cusolver_cu12-11.6.1.9-py3-none-manylinux2014_x86_64.whl (127.9 MB)\n",
            "\u001b[2K   \u001b[90m━━━━━━━━━━━━━━━━━━━━━━━━━━━━━━━━━━━━━━━━\u001b[0m \u001b[32m127.9/127.9 MB\u001b[0m \u001b[31m7.2 MB/s\u001b[0m eta \u001b[36m0:00:00\u001b[0m\n",
            "\u001b[?25hDownloading nvidia_cusparse_cu12-12.3.1.170-py3-none-manylinux2014_x86_64.whl (207.5 MB)\n",
            "\u001b[2K   \u001b[90m━━━━━━━━━━━━━━━━━━━━━━━━━━━━━━━━━━━━━━━━\u001b[0m \u001b[32m207.5/207.5 MB\u001b[0m \u001b[31m6.3 MB/s\u001b[0m eta \u001b[36m0:00:00\u001b[0m\n",
            "\u001b[?25hDownloading nvidia_nvjitlink_cu12-12.4.127-py3-none-manylinux2014_x86_64.whl (21.1 MB)\n",
            "\u001b[2K   \u001b[90m━━━━━━━━━━━━━━━━━━━━━━━━━━━━━━━━━━━━━━━━\u001b[0m \u001b[32m21.1/21.1 MB\u001b[0m \u001b[31m102.6 MB/s\u001b[0m eta \u001b[36m0:00:00\u001b[0m\n",
            "\u001b[?25hInstalling collected packages: nvidia-nvjitlink-cu12, nvidia-curand-cu12, nvidia-cufft-cu12, nvidia-cuda-runtime-cu12, nvidia-cuda-nvrtc-cu12, nvidia-cuda-cupti-cu12, nvidia-cublas-cu12, lightning-utilities, nvidia-cusparse-cu12, nvidia-cudnn-cu12, nvidia-cusolver-cu12, torchmetrics\n",
            "  Attempting uninstall: nvidia-nvjitlink-cu12\n",
            "    Found existing installation: nvidia-nvjitlink-cu12 12.5.82\n",
            "    Uninstalling nvidia-nvjitlink-cu12-12.5.82:\n",
            "      Successfully uninstalled nvidia-nvjitlink-cu12-12.5.82\n",
            "  Attempting uninstall: nvidia-curand-cu12\n",
            "    Found existing installation: nvidia-curand-cu12 10.3.6.82\n",
            "    Uninstalling nvidia-curand-cu12-10.3.6.82:\n",
            "      Successfully uninstalled nvidia-curand-cu12-10.3.6.82\n",
            "  Attempting uninstall: nvidia-cufft-cu12\n",
            "    Found existing installation: nvidia-cufft-cu12 11.2.3.61\n",
            "    Uninstalling nvidia-cufft-cu12-11.2.3.61:\n",
            "      Successfully uninstalled nvidia-cufft-cu12-11.2.3.61\n",
            "  Attempting uninstall: nvidia-cuda-runtime-cu12\n",
            "    Found existing installation: nvidia-cuda-runtime-cu12 12.5.82\n",
            "    Uninstalling nvidia-cuda-runtime-cu12-12.5.82:\n",
            "      Successfully uninstalled nvidia-cuda-runtime-cu12-12.5.82\n",
            "  Attempting uninstall: nvidia-cuda-nvrtc-cu12\n",
            "    Found existing installation: nvidia-cuda-nvrtc-cu12 12.5.82\n",
            "    Uninstalling nvidia-cuda-nvrtc-cu12-12.5.82:\n",
            "      Successfully uninstalled nvidia-cuda-nvrtc-cu12-12.5.82\n",
            "  Attempting uninstall: nvidia-cuda-cupti-cu12\n",
            "    Found existing installation: nvidia-cuda-cupti-cu12 12.5.82\n",
            "    Uninstalling nvidia-cuda-cupti-cu12-12.5.82:\n",
            "      Successfully uninstalled nvidia-cuda-cupti-cu12-12.5.82\n",
            "  Attempting uninstall: nvidia-cublas-cu12\n",
            "    Found existing installation: nvidia-cublas-cu12 12.5.3.2\n",
            "    Uninstalling nvidia-cublas-cu12-12.5.3.2:\n",
            "      Successfully uninstalled nvidia-cublas-cu12-12.5.3.2\n",
            "  Attempting uninstall: nvidia-cusparse-cu12\n",
            "    Found existing installation: nvidia-cusparse-cu12 12.5.1.3\n",
            "    Uninstalling nvidia-cusparse-cu12-12.5.1.3:\n",
            "      Successfully uninstalled nvidia-cusparse-cu12-12.5.1.3\n",
            "  Attempting uninstall: nvidia-cudnn-cu12\n",
            "    Found existing installation: nvidia-cudnn-cu12 9.3.0.75\n",
            "    Uninstalling nvidia-cudnn-cu12-9.3.0.75:\n",
            "      Successfully uninstalled nvidia-cudnn-cu12-9.3.0.75\n",
            "  Attempting uninstall: nvidia-cusolver-cu12\n",
            "    Found existing installation: nvidia-cusolver-cu12 11.6.3.83\n",
            "    Uninstalling nvidia-cusolver-cu12-11.6.3.83:\n",
            "      Successfully uninstalled nvidia-cusolver-cu12-11.6.3.83\n",
            "Successfully installed lightning-utilities-0.14.3 nvidia-cublas-cu12-12.4.5.8 nvidia-cuda-cupti-cu12-12.4.127 nvidia-cuda-nvrtc-cu12-12.4.127 nvidia-cuda-runtime-cu12-12.4.127 nvidia-cudnn-cu12-9.1.0.70 nvidia-cufft-cu12-11.2.1.3 nvidia-curand-cu12-10.3.5.147 nvidia-cusolver-cu12-11.6.1.9 nvidia-cusparse-cu12-12.3.1.170 nvidia-nvjitlink-cu12-12.4.127 torchmetrics-1.7.1\n",
            "Collecting ultralytics\n",
            "  Downloading ultralytics-8.3.144-py3-none-any.whl.metadata (37 kB)\n",
            "Requirement already satisfied: numpy>=1.23.0 in /usr/local/lib/python3.11/dist-packages (from ultralytics) (2.0.2)\n",
            "Requirement already satisfied: matplotlib>=3.3.0 in /usr/local/lib/python3.11/dist-packages (from ultralytics) (3.10.0)\n",
            "Requirement already satisfied: opencv-python>=4.6.0 in /usr/local/lib/python3.11/dist-packages (from ultralytics) (4.11.0.86)\n",
            "Requirement already satisfied: pillow>=7.1.2 in /usr/local/lib/python3.11/dist-packages (from ultralytics) (11.2.1)\n",
            "Requirement already satisfied: pyyaml>=5.3.1 in /usr/local/lib/python3.11/dist-packages (from ultralytics) (6.0.2)\n",
            "Requirement already satisfied: requests>=2.23.0 in /usr/local/lib/python3.11/dist-packages (from ultralytics) (2.32.3)\n",
            "Requirement already satisfied: scipy>=1.4.1 in /usr/local/lib/python3.11/dist-packages (from ultralytics) (1.15.3)\n",
            "Requirement already satisfied: torch>=1.8.0 in /usr/local/lib/python3.11/dist-packages (from ultralytics) (2.6.0+cu124)\n",
            "Requirement already satisfied: torchvision>=0.9.0 in /usr/local/lib/python3.11/dist-packages (from ultralytics) (0.21.0+cu124)\n",
            "Requirement already satisfied: tqdm>=4.64.0 in /usr/local/lib/python3.11/dist-packages (from ultralytics) (4.67.1)\n",
            "Requirement already satisfied: psutil in /usr/local/lib/python3.11/dist-packages (from ultralytics) (5.9.5)\n",
            "Requirement already satisfied: py-cpuinfo in /usr/local/lib/python3.11/dist-packages (from ultralytics) (9.0.0)\n",
            "Requirement already satisfied: pandas>=1.1.4 in /usr/local/lib/python3.11/dist-packages (from ultralytics) (2.2.2)\n",
            "Collecting ultralytics-thop>=2.0.0 (from ultralytics)\n",
            "  Downloading ultralytics_thop-2.0.14-py3-none-any.whl.metadata (9.4 kB)\n",
            "Requirement already satisfied: contourpy>=1.0.1 in /usr/local/lib/python3.11/dist-packages (from matplotlib>=3.3.0->ultralytics) (1.3.2)\n",
            "Requirement already satisfied: cycler>=0.10 in /usr/local/lib/python3.11/dist-packages (from matplotlib>=3.3.0->ultralytics) (0.12.1)\n",
            "Requirement already satisfied: fonttools>=4.22.0 in /usr/local/lib/python3.11/dist-packages (from matplotlib>=3.3.0->ultralytics) (4.58.0)\n",
            "Requirement already satisfied: kiwisolver>=1.3.1 in /usr/local/lib/python3.11/dist-packages (from matplotlib>=3.3.0->ultralytics) (1.4.8)\n",
            "Requirement already satisfied: packaging>=20.0 in /usr/local/lib/python3.11/dist-packages (from matplotlib>=3.3.0->ultralytics) (24.2)\n",
            "Requirement already satisfied: pyparsing>=2.3.1 in /usr/local/lib/python3.11/dist-packages (from matplotlib>=3.3.0->ultralytics) (3.2.3)\n",
            "Requirement already satisfied: python-dateutil>=2.7 in /usr/local/lib/python3.11/dist-packages (from matplotlib>=3.3.0->ultralytics) (2.9.0.post0)\n",
            "Requirement already satisfied: pytz>=2020.1 in /usr/local/lib/python3.11/dist-packages (from pandas>=1.1.4->ultralytics) (2025.2)\n",
            "Requirement already satisfied: tzdata>=2022.7 in /usr/local/lib/python3.11/dist-packages (from pandas>=1.1.4->ultralytics) (2025.2)\n",
            "Requirement already satisfied: charset-normalizer<4,>=2 in /usr/local/lib/python3.11/dist-packages (from requests>=2.23.0->ultralytics) (3.4.2)\n",
            "Requirement already satisfied: idna<4,>=2.5 in /usr/local/lib/python3.11/dist-packages (from requests>=2.23.0->ultralytics) (3.10)\n",
            "Requirement already satisfied: urllib3<3,>=1.21.1 in /usr/local/lib/python3.11/dist-packages (from requests>=2.23.0->ultralytics) (2.4.0)\n",
            "Requirement already satisfied: certifi>=2017.4.17 in /usr/local/lib/python3.11/dist-packages (from requests>=2.23.0->ultralytics) (2025.4.26)\n",
            "Requirement already satisfied: filelock in /usr/local/lib/python3.11/dist-packages (from torch>=1.8.0->ultralytics) (3.18.0)\n",
            "Requirement already satisfied: typing-extensions>=4.10.0 in /usr/local/lib/python3.11/dist-packages (from torch>=1.8.0->ultralytics) (4.13.2)\n",
            "Requirement already satisfied: networkx in /usr/local/lib/python3.11/dist-packages (from torch>=1.8.0->ultralytics) (3.4.2)\n",
            "Requirement already satisfied: jinja2 in /usr/local/lib/python3.11/dist-packages (from torch>=1.8.0->ultralytics) (3.1.6)\n",
            "Requirement already satisfied: fsspec in /usr/local/lib/python3.11/dist-packages (from torch>=1.8.0->ultralytics) (2025.3.2)\n",
            "Requirement already satisfied: nvidia-cuda-nvrtc-cu12==12.4.127 in /usr/local/lib/python3.11/dist-packages (from torch>=1.8.0->ultralytics) (12.4.127)\n",
            "Requirement already satisfied: nvidia-cuda-runtime-cu12==12.4.127 in /usr/local/lib/python3.11/dist-packages (from torch>=1.8.0->ultralytics) (12.4.127)\n",
            "Requirement already satisfied: nvidia-cuda-cupti-cu12==12.4.127 in /usr/local/lib/python3.11/dist-packages (from torch>=1.8.0->ultralytics) (12.4.127)\n",
            "Requirement already satisfied: nvidia-cudnn-cu12==9.1.0.70 in /usr/local/lib/python3.11/dist-packages (from torch>=1.8.0->ultralytics) (9.1.0.70)\n",
            "Requirement already satisfied: nvidia-cublas-cu12==12.4.5.8 in /usr/local/lib/python3.11/dist-packages (from torch>=1.8.0->ultralytics) (12.4.5.8)\n",
            "Requirement already satisfied: nvidia-cufft-cu12==11.2.1.3 in /usr/local/lib/python3.11/dist-packages (from torch>=1.8.0->ultralytics) (11.2.1.3)\n",
            "Requirement already satisfied: nvidia-curand-cu12==10.3.5.147 in /usr/local/lib/python3.11/dist-packages (from torch>=1.8.0->ultralytics) (10.3.5.147)\n",
            "Requirement already satisfied: nvidia-cusolver-cu12==11.6.1.9 in /usr/local/lib/python3.11/dist-packages (from torch>=1.8.0->ultralytics) (11.6.1.9)\n",
            "Requirement already satisfied: nvidia-cusparse-cu12==12.3.1.170 in /usr/local/lib/python3.11/dist-packages (from torch>=1.8.0->ultralytics) (12.3.1.170)\n",
            "Requirement already satisfied: nvidia-cusparselt-cu12==0.6.2 in /usr/local/lib/python3.11/dist-packages (from torch>=1.8.0->ultralytics) (0.6.2)\n",
            "Requirement already satisfied: nvidia-nccl-cu12==2.21.5 in /usr/local/lib/python3.11/dist-packages (from torch>=1.8.0->ultralytics) (2.21.5)\n",
            "Requirement already satisfied: nvidia-nvtx-cu12==12.4.127 in /usr/local/lib/python3.11/dist-packages (from torch>=1.8.0->ultralytics) (12.4.127)\n",
            "Requirement already satisfied: nvidia-nvjitlink-cu12==12.4.127 in /usr/local/lib/python3.11/dist-packages (from torch>=1.8.0->ultralytics) (12.4.127)\n",
            "Requirement already satisfied: triton==3.2.0 in /usr/local/lib/python3.11/dist-packages (from torch>=1.8.0->ultralytics) (3.2.0)\n",
            "Requirement already satisfied: sympy==1.13.1 in /usr/local/lib/python3.11/dist-packages (from torch>=1.8.0->ultralytics) (1.13.1)\n",
            "Requirement already satisfied: mpmath<1.4,>=1.1.0 in /usr/local/lib/python3.11/dist-packages (from sympy==1.13.1->torch>=1.8.0->ultralytics) (1.3.0)\n",
            "Requirement already satisfied: six>=1.5 in /usr/local/lib/python3.11/dist-packages (from python-dateutil>=2.7->matplotlib>=3.3.0->ultralytics) (1.17.0)\n",
            "Requirement already satisfied: MarkupSafe>=2.0 in /usr/local/lib/python3.11/dist-packages (from jinja2->torch>=1.8.0->ultralytics) (3.0.2)\n",
            "Downloading ultralytics-8.3.144-py3-none-any.whl (1.0 MB)\n",
            "\u001b[2K   \u001b[90m━━━━━━━━━━━━━━━━━━━━━━━━━━━━━━━━━━━━━━━━\u001b[0m \u001b[32m1.0/1.0 MB\u001b[0m \u001b[31m27.4 MB/s\u001b[0m eta \u001b[36m0:00:00\u001b[0m\n",
            "\u001b[?25hDownloading ultralytics_thop-2.0.14-py3-none-any.whl (26 kB)\n",
            "Installing collected packages: ultralytics-thop, ultralytics\n",
            "Successfully installed ultralytics-8.3.144 ultralytics-thop-2.0.14\n",
            "Found existing installation: albumentations 2.0.6\n",
            "Uninstalling albumentations-2.0.6:\n",
            "  Successfully uninstalled albumentations-2.0.6\n"
          ]
        }
      ],
      "id": "qdkvmfH6Q94b"
    },
    {
      "cell_type": "code",
      "execution_count": null,
      "id": "6db14cb3-a2a3-4ccc-a139-27a59408f24d",
      "metadata": {
        "colab": {
          "base_uri": "https://localhost:8080/"
        },
        "id": "6db14cb3-a2a3-4ccc-a139-27a59408f24d",
        "outputId": "f05f9afc-7d30-4099-d024-4e5190671649"
      },
      "outputs": [
        {
          "output_type": "stream",
          "name": "stdout",
          "text": [
            "Creating new Ultralytics Settings v0.0.6 file ✅ \n",
            "View Ultralytics Settings with 'yolo settings' or at '/root/.config/Ultralytics/settings.json'\n",
            "Update Settings with 'yolo settings key=value', i.e. 'yolo settings runs_dir=path/to/dir'. For help see https://docs.ultralytics.com/quickstart/#ultralytics-settings.\n"
          ]
        }
      ],
      "source": [
        "%matplotlib inline\n",
        "import cv2\n",
        "from google.colab import drive\n",
        "import numpy as np\n",
        "from math import inf\n",
        "import matplotlib.pyplot as plt\n",
        "import os\n",
        "import pandas as pd\n",
        "import seaborn as sns\n",
        "import time\n",
        "import torch\n",
        "import torch.nn as nn\n",
        "from torch.utils.data import Dataset, DataLoader\n",
        "from torchinfo import summary\n",
        "from torchvision.models.detection import ssd300_vgg16, SSD300_VGG16_Weights\n",
        "from torchvision import transforms\n",
        "from torchvision.models.detection.ssd import SSDHead\n",
        "from torchvision.ops import nms\n",
        "from torchmetrics.detection import MeanAveragePrecision\n",
        "from tqdm import tqdm\n",
        "from ultralytics import YOLO"
      ]
    },
    {
      "cell_type": "markdown",
      "id": "0d90df5e-e1bc-4028-b9a9-a22b7b63553a",
      "metadata": {
        "id": "0d90df5e-e1bc-4028-b9a9-a22b7b63553a"
      },
      "source": [
        "## Dispositivo"
      ]
    },
    {
      "cell_type": "code",
      "execution_count": null,
      "id": "3530dcc8-ee6b-4668-9c76-15829033b535",
      "metadata": {
        "colab": {
          "base_uri": "https://localhost:8080/"
        },
        "id": "3530dcc8-ee6b-4668-9c76-15829033b535",
        "outputId": "88193c1f-ae4b-40a1-acc2-d95a731fa8b5"
      },
      "outputs": [
        {
          "output_type": "stream",
          "name": "stdout",
          "text": [
            "cuda\n"
          ]
        }
      ],
      "source": [
        "DEVICE = \"cuda\" if torch.cuda.is_available() else \"cpu\"\n",
        "print(DEVICE)"
      ]
    },
    {
      "cell_type": "markdown",
      "id": "c6a7a72a-9749-41f2-b50e-555a1aa0ab68",
      "metadata": {
        "id": "c6a7a72a-9749-41f2-b50e-555a1aa0ab68"
      },
      "source": [
        "## Funciones Auxiliares"
      ]
    },
    {
      "cell_type": "code",
      "execution_count": null,
      "id": "ccc2232b-c3d8-44ad-81e9-8928f6b0e2db",
      "metadata": {
        "id": "ccc2232b-c3d8-44ad-81e9-8928f6b0e2db"
      },
      "outputs": [],
      "source": [
        "def train_batch(inputs, model, optimizer):\n",
        "    \"\"\"\n",
        "    Entrena el modelo en un batch.\n",
        "    \"\"\"\n",
        "\n",
        "    model.train() # Modo entrenamiento\n",
        "\n",
        "    # Obtenemos los pares imagen-anotacion como marca la documentacion\n",
        "    input, targets = inputs\n",
        "    input = [image for image in input]\n",
        "    targets = [{k: v.to(DEVICE) for k, v in t.items()} for t in targets]\n",
        "\n",
        "    # Obtenemos la perdida\n",
        "    losses = model(input, targets) # En modo entrenamiento devuelve un diccionario con las perdidas\n",
        "    loss = losses[\"classification\"] + 1 * losses[\"bbox_regression\"]\n",
        "\n",
        "     # Calculamos el gradiente de la perdida con retropropagacion\n",
        "    loss.backward()\n",
        "\n",
        "    # Hacemos un paso del metodo del gradiente\n",
        "    optimizer.step()\n",
        "\n",
        "    # Vaciamos el optimizador de la informacion del gradiente\n",
        "    optimizer.zero_grad()\n",
        "\n",
        "    return loss, losses\n",
        "\n",
        "@torch.no_grad()\n",
        "def validate_batch(inputs, model):\n",
        "    \"\"\"\n",
        "    Calcula la accuracy del modelo en un batch.\n",
        "    \"\"\"\n",
        "\n",
        "    model.train() # Modo entrenamiento\n",
        "\n",
        "    # Obtenemos los pares imagen-anotacion como marca la documentacion\n",
        "    input, targets = inputs\n",
        "    input = [image.to(DEVICE) for image in input]\n",
        "    targets = [{k: v.to(DEVICE) for k, v in t.items()} for t in targets]\n",
        "\n",
        "    # Obtenemos la perdida\n",
        "    losses = model(input, targets) # En modo entrenamiento devuelve un diccionario con las perdidas\n",
        "    loss = losses[\"classification\"] + 1 * losses[\"bbox_regression\"]\n",
        "    return loss, losses\n",
        "\n",
        "def train_model(model, optimizer, train_dataloader, val_dataloader, epochs=10):\n",
        "    \"\"\"\n",
        "    Entrena el modelo, implementando un mecanismo que actúa como early stopping basado en\n",
        "    la pérdida total en validación. Devuelve también las pérdidas encontradas en\n",
        "    los conjuntos de entrenamiento y valiación durante el entrenamiento.\n",
        "    \"\"\"\n",
        "\n",
        "    # Inicializamos las listas con las perdidas\n",
        "    train_losses = []\n",
        "    train_losses_classifier = []\n",
        "    train_losses_box_reg = []\n",
        "    val_losses = []\n",
        "    val_losses_classifier = []\n",
        "    val_losses_box_reg = []\n",
        "\n",
        "    # Inicializamos el mecanismo de early stopping\n",
        "    best_model = {\n",
        "        \"model_state_dict\": None,\n",
        "        \"optimizer_state_dict\": None,\n",
        "        \"epoch\": None,\n",
        "        \"min_val_loss\": inf\n",
        "    }\n",
        "\n",
        "\n",
        "    for epoch in range(epochs):\n",
        "        # Regristramos el momento de comienzo de la epoch\n",
        "        year, month, day, h, m, s = map(lambda x : x.rjust(2, \"0\"),\n",
        "                                          time.strftime(\"%y %m %d %H %M %S\")\n",
        "                                          .split())\n",
        "        time_stamp = f\"{day}/{month}/{year} {h}:{m}:{s}\"\n",
        "        start = time.time()\n",
        "        print(\"=\" * 79)\n",
        "        print(f\"Epoch: {epoch + 1} - Started: {time_stamp}\")\n",
        "\n",
        "        # Inicializamos las listas con las perdidas y accuracies de la epoch\n",
        "        train_epoch_losses = []\n",
        "        train_epoch_losses_classifier = []\n",
        "        train_epoch_losses_box_reg = []\n",
        "        val_epoch_losses = []\n",
        "        val_epoch_losses_classifier = []\n",
        "        val_epoch_losses_box_reg = []\n",
        "\n",
        "        # Entrenamos el modelo con minibatch\n",
        "        _n = len(train_dataloader)\n",
        "        for inputs in tqdm(train_dataloader, total=_n, desc=\"- Training\"):\n",
        "            loss, losses = train_batch(inputs, model, optimizer)\n",
        "            loc_loss, regr_loss = \\\n",
        "                [losses[k] for k in [\"bbox_regression\", \"classification\"]]\n",
        "            train_epoch_losses.append(loss.item())\n",
        "            train_epoch_losses_classifier.append(loc_loss.item())\n",
        "            train_epoch_losses_box_reg.append(regr_loss.item())\n",
        "\n",
        "        # Calculamos las perdidas sobre el conjunto de validacion\n",
        "        _n = len(val_dataloader)\n",
        "        for inputs in tqdm(val_dataloader, total=_n, desc=\"- Validation\"):\n",
        "            loss, losses = validate_batch(inputs, model)\n",
        "            loc_loss, regr_loss = \\\n",
        "                [losses[k] for k in [\"bbox_regression\", \"classification\"]]\n",
        "            val_epoch_losses.append(loss.item())\n",
        "            val_epoch_losses_classifier.append(loc_loss.item())\n",
        "            val_epoch_losses_box_reg.append(regr_loss.item())\n",
        "\n",
        "        # Actualizamos las perdidas y accuracies\n",
        "        train_losses.append(np.mean(train_epoch_losses))\n",
        "        train_losses_classifier.append(np.mean(train_epoch_losses_classifier))\n",
        "        train_losses_box_reg.append(np.mean(train_epoch_losses_box_reg))\n",
        "        val_losses.append(np.mean(val_epoch_losses))\n",
        "        val_losses_classifier.append(np.mean(val_epoch_losses_classifier))\n",
        "        val_losses_box_reg.append(np.mean(val_epoch_losses_box_reg))\n",
        "\n",
        "        # Ponemos en marcha el mecanismo de early stopping\n",
        "        if val_losses[-1] < best_model[\"min_val_loss\"]:\n",
        "            best_model[\"min_val_loss\"] = val_losses[-1]\n",
        "            best_model[\"model_state_dict\"] = model.state_dict()\n",
        "            best_model[\"optimizer_state_dict\"] = optimizer.state_dict()\n",
        "            best_model[\"epoch\"] = epoch + 1\n",
        "\n",
        "        # Regristramos el momento de comienzo de la epoch\n",
        "        end = time.time()\n",
        "        year, month, day, h, m, s = map(lambda x : x.rjust(2, \"0\"),\n",
        "                                        time.strftime(\"%y %m %d %H %M %S\")\n",
        "                                        .split())\n",
        "        time_stamp = f\"{day}/{month}/{year} {h}:{m}:{s}\"\n",
        "\n",
        "        print(f\"Epoch: {epoch + 1} - Ended: {time_stamp} - Duration: {round(end - start, 2)}s\")\n",
        "        print()\n",
        "\n",
        "        # Imprimimos estadisticas de la epoch para un mejor seguimiento\n",
        "        print(f\"Training Loss: {train_losses[-1]} - Validation Loss: {val_losses[-1]}\")\n",
        "        print(\"=\" * 79)\n",
        "        print()\n",
        "\n",
        "    return train_losses, train_losses_classifier, train_losses_box_reg, \\\n",
        "              val_losses, val_losses_classifier, val_losses_box_reg, best_model\n",
        "\n",
        "\n",
        "\n",
        "def plot_training_results(train_losses, val_losses,\n",
        "                          xlabel=\"Epochs\", ylabel=\"Loss\", title=\"Training Results\"):\n",
        "    \"\"\"\n",
        "    Representa la pérdida del modelo en el entrenamiento sobre los conjuntos de entrenamiento\n",
        "    y validación.\n",
        "    \"\"\"\n",
        "\n",
        "    # Diccionario con las perdidas\n",
        "    losses = pd.DataFrame(\n",
        "        {\"Entrenamiento\": train_losses,\n",
        "         \"Validación\": val_losses})\n",
        "\n",
        "    # Representacion grafica\n",
        "    with sns.axes_style(\"whitegrid\"):\n",
        "        losses_plot = sns.lineplot(data=losses)\n",
        "        losses_plot.set(\n",
        "            xlabel=xlabel,\n",
        "            ylabel=ylabel,\n",
        "            title=title\n",
        "        )\n",
        "        plt.show()\n",
        "\n",
        "def decode_output_ssd(output, conf_threshold=0.5):\n",
        "    \"\"\"\n",
        "    Decodifica la salida de SSD300 para que sea posible representarla y\n",
        "    calcular la mAP.\n",
        "    \"\"\"\n",
        "\n",
        "    # Extraemos las partes de la salida\n",
        "    bbs = output[\"boxes\"].cpu().detach()\n",
        "    labels = torch.tensor([i - 1 for i in output[\"labels\"].cpu()])\n",
        "    confs = output[\"scores\"].cpu().detach()\n",
        "\n",
        "    # Filtramos en las detecciones\n",
        "    all_ixs = torch.arange(0, len(confs))\n",
        "    ixs = torch.tensor([], dtype=torch.int32) # Los indices de las detecciones con las que nos quedamos\n",
        "\n",
        "    for label in labels.unique():\n",
        "        label_mask = labels == label # Seleccionamos las detecciones de una clase\n",
        "\n",
        "        label_ixs = nms(bbs[label_mask], confs[label_mask], 0.05) # Hacemos Non-max suppression\n",
        "\n",
        "        real_ixs = all_ixs[label_mask][label_ixs] # Seleccionamos solo las detecciones que pasan la nms\n",
        "\n",
        "        final_ixs = real_ixs[confs[real_ixs] > 0.5] # Seleccionamos solo los indices con confianza > 0.5\n",
        "\n",
        "        ixs = torch.cat((ixs, final_ixs)) # Nos quesamos con los indices de las detecciones de esta clase que pasan el filtro\n",
        "\n",
        "    bbs, confs, labels = [tensor[ixs] for tensor in [bbs, confs, labels]] # Filtramos las cajas, confianzas y etiquetas\n",
        "\n",
        "    return bbs, confs, labels\n",
        "\n",
        "def adapt_bbs(bbs, image):\n",
        "    \"\"\"\n",
        "    Adapta las cajas de las detecciones de una imagen de formato 300x300 a las dimensiones\n",
        "    de la imagen\n",
        "    \"\"\"\n",
        "    real_w, real_h = image.shape[1], image.shape[0]\n",
        "    bbs[:, 0:3:2] = bbs[:, 0:3:2] * real_w / 300\n",
        "    bbs[:, 1:4:2] = bbs[:, 1:4:2] * real_h / 300\n",
        "\n",
        "    return bbs\n",
        "\n",
        "@torch.no_grad()\n",
        "def measure_fps_ssd(model, dataset, dataloader):\n",
        "    \"\"\"\n",
        "    Estima los FPS a los que detecta SSD300. Se tiene el cuenta el post-procesamiento.\n",
        "    \"\"\"\n",
        "\n",
        "    model.eval() # Modo evaluacion\n",
        "    n = len(dataset)\n",
        "\n",
        "    # Cronometramos cuanto tardamos en detectar y procesar las detecciones de todas\n",
        "    # las imagenes\n",
        "    torch.cuda.synchronize()\n",
        "    start_time = time.time()\n",
        "\n",
        "    for ix_dataloader, batch in enumerate(dataloader):\n",
        "        for ix_batch, img in enumerate(batch[0]):\n",
        "            image = dataset[ix_dataloader * 4 + ix_batch][0]\n",
        "            output = model(img.unsqueeze(0))[0]\n",
        "            output = decode_output_ssd(output)\n",
        "            _ = adapt_bbs(output[0], image)\n",
        "\n",
        "    torch.cuda.synchronize()\n",
        "    total_time = time.time() - start_time\n",
        "\n",
        "    # Calculamos los FPS\n",
        "    fps = n / total_time\n",
        "    print(f\"FPS: {fps:.2f}\")\n",
        "\n",
        "    return fps\n",
        "\n",
        "@torch.no_grad()\n",
        "def calcula_map_ssd(model, dataset, dataloader, iou_list=[0.5]):\n",
        "    \"\"\"\n",
        "    Calcula el mAP a distintos umbrales y su media para SSD300.\n",
        "    \"\"\"\n",
        "\n",
        "    map_dict = {}\n",
        "    model.eval()\n",
        "    preds = []\n",
        "    targets = []\n",
        "\n",
        "    n = len(dataloader)\n",
        "\n",
        "    # Hacemos las detecciones sobre las imagenes y las ponemos en una lista con el\n",
        "    # formato de la documentacion de MeanAveragePrecision.\n",
        "    for ix_dataloader, batch in tqdm(enumerate(dataloader), total = n):\n",
        "\n",
        "      for ix_batch, img in enumerate(batch[0]):\n",
        "        image = dataset[ix_dataloader * 4 + ix_batch][0]\n",
        "\n",
        "        output = model(img.unsqueeze(0))[0]\n",
        "        output = decode_output_ssd(output)\n",
        "\n",
        "        bbs = adapt_bbs(output[0], image)\n",
        "        preds.append({\"boxes\": bbs, \"scores\": output[1], \"labels\": output[2]})\n",
        "\n",
        "        true_bbs = torch.tensor(dataset[ix_dataloader * 4 + ix_batch][1], dtype=torch.float32)\n",
        "        true_labels = torch.tensor(dataset[ix_dataloader * 4 + ix_batch][2])\n",
        "        targets.append({\"boxes\": true_bbs, \"labels\": true_labels})\n",
        "\n",
        "    # Calculamos la mAP a distintos umbrales\n",
        "    for iou in iou_list:\n",
        "        metric = MeanAveragePrecision(iou_thresholds=[iou])\n",
        "        metric.update(preds, targets)\n",
        "        results = metric.compute()\n",
        "        map_dict[f\"map@{iou}\"] = results\n",
        "        print(f\"mAP@{iou}: {results['map']:.4f}\")\n",
        "\n",
        "    # Calculamos la media si se da mas de un umbral\n",
        "    if len(iou_list) > 1:\n",
        "        metric = MeanAveragePrecision(iou_thresholds=list(iou_list))\n",
        "        metric.update(preds, targets)\n",
        "        results = metric.compute()\n",
        "        map_dict[\"map\"] = results[\"map\"]\n",
        "        print(f\"Average mAP: {results['map']:.4f}\")\n",
        "\n",
        "    return map_dict\n",
        "\n",
        "def decode_output_yolo(output, conf_threshold=0.5):\n",
        "    \"\"\"\n",
        "    Decodifica la salida de YOLOv5 para que sea posible representarla y\n",
        "    calcular la mAP.\n",
        "    \"\"\"\n",
        "\n",
        "    # Extraemos las partes de la salida\n",
        "    bbs = output[0].boxes.xyxy.cpu()\n",
        "    confs = output[0].boxes.conf.cpu()\n",
        "    labels = output[0].boxes.cls.cpu().int()\n",
        "\n",
        "    # Nos quedamos con las detecciones que superen cierto umbral\n",
        "    ixs = (confs > conf_threshold)\n",
        "\n",
        "    # Filtramos las detecctiones\n",
        "    bbs = bbs[ixs]\n",
        "    confs = confs[ixs]\n",
        "    labels = labels[ixs]\n",
        "\n",
        "    return bbs, confs, labels\n",
        "\n",
        "\n",
        "@torch.no_grad()\n",
        "def measure_fps_yolo(model, dataset):\n",
        "    \"\"\"\n",
        "    Estima los FPS a los que detecta SSD300. Se tiene el cuenta el post-procesamiento.\n",
        "    \"\"\"\n",
        "\n",
        "    n = len(dataset)\n",
        "\n",
        "    # Cronometramos cuanto tardamos en detectar y procesar las detecciones de todas\n",
        "    # las imagenes\n",
        "    torch.cuda.synchronize()\n",
        "    start_time = time.time()\n",
        "\n",
        "    for data in dataset:\n",
        "        output = model.predict(data[0], device=0, verbose = False)\n",
        "        _ = decode_output_yolo(output)\n",
        "\n",
        "    torch.cuda.synchronize()\n",
        "    total_time = time.time() - start_time\n",
        "\n",
        "    # Calculamos los FPS\n",
        "    fps = n / total_time\n",
        "    print(f\"FPS: {fps:.2f}\")\n",
        "\n",
        "    return fps\n",
        "\n",
        "\n",
        "@torch.no_grad()\n",
        "def measure_map_yolo(model, dataset, iou_list=[0.5]):\n",
        "    \"\"\"\n",
        "    Calcula el mAP a distintos umbrales y su media para SSD300.\n",
        "    \"\"\"\n",
        "\n",
        "    map_dict = {}\n",
        "    preds = []\n",
        "    targets = []\n",
        "\n",
        "    n = len(dataset)\n",
        "\n",
        "    # Hacemos las detecciones sobre las imagenes y las ponemos en una lista con el\n",
        "    # formato de la documentacion de MeanAveragePrecision.\n",
        "    for data in tqdm(dataset, total = n):\n",
        "        image = data[0]\n",
        "\n",
        "        output = model.predict(image, device=0, verbose = False)\n",
        "        bbs, confs, labels = decode_output_yolo(output)\n",
        "\n",
        "        preds.append({\"boxes\": bbs, \"scores\": confs, \"labels\": labels})\n",
        "\n",
        "        true_bbs = torch.tensor(data[1], dtype=torch.float32)\n",
        "        true_labels = torch.tensor(data[2])\n",
        "        targets.append({\"boxes\": true_bbs, \"labels\": true_labels})\n",
        "\n",
        "    # Calculamos la mAP a distintos umbrales\n",
        "    for iou in iou_list:\n",
        "        metric = MeanAveragePrecision(iou_thresholds=[iou])\n",
        "        metric.update(preds, targets)\n",
        "        results = metric.compute()\n",
        "        map_dict[f\"map@{iou}\"] = results\n",
        "        print(f\"mAP@{iou}: {results['map']:.4f}\")\n",
        "\n",
        "    # Calculamos la media si se da mas de un umbral\n",
        "    if len(iou_list) > 1:\n",
        "        metric = MeanAveragePrecision(iou_thresholds=list(iou_list))\n",
        "        metric.update(preds, targets)\n",
        "        results = metric.compute()\n",
        "        map_dict[\"map\"] = results[\"map\"]\n",
        "        print(f\"Average mAP: {results['map']:.4f}\")\n",
        "\n",
        "    return map_dict\n",
        "\n",
        "def plot_training_results_yolo(results_path):\n",
        "    \"\"\"\n",
        "    Representa la evolución de las pérdidas de YOLOv5 a lo largo del entrenamiento\n",
        "    \"\"\"\n",
        "\n",
        "    results = pd.read_csv(results_path)\n",
        "\n",
        "    results[\"train_loss\"] = results[\"train/box_loss\"] + results[\"train/dfl_loss\"] + results[\"train/cls_loss\"]\n",
        "    results[\"val_loss\"] = results[\"val/box_loss\"] + results[\"val/dfl_loss\"] + results[\"val/cls_loss\"]\n",
        "\n",
        "    with sns.axes_style(\"whitegrid\"):\n",
        "        fig, axs = plt.subplots(1, 4, figsize=(12, 3))\n",
        "        losses_plot = sns.lineplot(\n",
        "            data = {\n",
        "                \"Entrenamiento\": results[\"train_loss\"],\n",
        "                \"Validación\": results[\"val_loss\"],\n",
        "            },\n",
        "            ax = axs[0],\n",
        "        )\n",
        "        losses_plot.set(\n",
        "            xlabel=\"Epochs\",\n",
        "            ylabel=\"Pérdida Total\",\n",
        "        )\n",
        "        axs[0].set_xticks([0, 4, 9, 14, 19])\n",
        "        axs[0].set_xticklabels([1, 5, 10, 15, 20])\n",
        "\n",
        "        cls_losses_plot = sns.lineplot(\n",
        "            data = {\n",
        "                \"Entrenamiento\": results[\"train/cls_loss\"],\n",
        "                \"Validación\": results[\"val/cls_loss\"],\n",
        "            },\n",
        "            ax = axs[1],\n",
        "        )\n",
        "        cls_losses_plot.set(\n",
        "            xlabel=\"Epochs\",\n",
        "            ylabel=\"Pérdida Clasificación\",\n",
        "        )\n",
        "        axs[1].set_xticks([0, 4, 9, 14, 19])\n",
        "        axs[1].set_xticklabels([1, 5, 10, 15, 20])\n",
        "\n",
        "        box_losses_plot = sns.lineplot(\n",
        "            data = {\n",
        "                \"Entrenamiento\": results[\"train/box_loss\"],\n",
        "                \"Validación\": results[\"val/box_loss\"],\n",
        "            },\n",
        "            ax = axs[2],\n",
        "        )\n",
        "        box_losses_plot.set(\n",
        "            xlabel=\"Epochs\",\n",
        "            ylabel=\"Pérdida de Regresión de las Cajas\",\n",
        "        )\n",
        "        axs[2].set_xticks([0, 4, 9, 14, 19])\n",
        "        axs[2].set_xticklabels([1, 5, 10, 15, 20])\n",
        "\n",
        "        dfl_losses_plot = sns.lineplot(\n",
        "            data = {\n",
        "                \"Entrenamiento\": results[\"train/dfl_loss\"],\n",
        "                \"Validación\": results[\"val/dfl_loss\"],\n",
        "            },\n",
        "            ax = axs[3],\n",
        "        )\n",
        "        dfl_losses_plot.set(\n",
        "            xlabel=\"Epochs\",\n",
        "            ylabel=\"Pérdida de Distribución Focal\",\n",
        "        )\n",
        "        axs[3].set_xticks([0, 4, 9, 14, 19])\n",
        "        axs[3].set_xticklabels([1, 5, 10, 15, 20])\n",
        "        plt.tight_layout()\n",
        "        plt.show()\n",
        "\n",
        "\n",
        "def plot_training_results_ssd(results):\n",
        "    \"\"\"\n",
        "    Representa la evolución de las pérdidas de SSD300 a lo largo del entrenamiento.\n",
        "    \"\"\"\n",
        "\n",
        "    with sns.axes_style(\"whitegrid\"):\n",
        "        fig, axs = plt.subplots(1, 3, figsize=(9, 3))\n",
        "        losses_plot = sns.lineplot(\n",
        "            data = {\n",
        "                \"Entrenamiento\": results[\"train_losses\"],\n",
        "                \"Validación\": results[\"val_losses\"],\n",
        "            },\n",
        "            ax = axs[0],\n",
        "        )\n",
        "        losses_plot.set(\n",
        "            xlabel=\"Epochs\",\n",
        "            ylabel=\"Pérdida Total\",\n",
        "        )\n",
        "        axs[0].set_xticks([0, 4, 9, 14, 19])\n",
        "        axs[0].set_xticklabels([1, 5, 10, 15, 20])\n",
        "\n",
        "        cls_losses_plot = sns.lineplot(\n",
        "            data = {\n",
        "                \"Entrenamiento\": results[\"train_losses_classifier\"],\n",
        "                \"Validación\": results[\"val_losses_classifier\"],\n",
        "            },\n",
        "            ax = axs[1],\n",
        "        )\n",
        "        cls_losses_plot.set(\n",
        "            xlabel=\"Epochs\",\n",
        "            ylabel=\"Pérdida Clasificación\",\n",
        "        )\n",
        "        axs[1].set_xticks([0, 4, 9, 14, 19])\n",
        "        axs[1].set_xticklabels([1, 5, 10, 15, 20])\n",
        "\n",
        "        box_losses_plot = sns.lineplot(\n",
        "            data = {\n",
        "                \"Entrenamiento\": results[\"train_losses_box_reg\"],\n",
        "                \"Validación\": results[\"val_losses_box_reg\"],\n",
        "            },\n",
        "            ax = axs[2],\n",
        "        )\n",
        "        box_losses_plot.set(\n",
        "            xlabel=\"Epochs\",\n",
        "            ylabel=\"Pérdida de Regresión de las Cajas\",\n",
        "        )\n",
        "        axs[2].set_xticks([0, 4, 9, 14, 19])\n",
        "        axs[2].set_xticklabels([1, 5, 10, 15, 20])\n",
        "\n",
        "        plt.tight_layout()\n",
        "        plt.show()"
      ]
    },
    {
      "cell_type": "markdown",
      "id": "00c30c53-2f06-4ec2-abd5-a6731fdff1ad",
      "metadata": {
        "id": "00c30c53-2f06-4ec2-abd5-a6731fdff1ad"
      },
      "source": [
        "## Datos"
      ]
    },
    {
      "cell_type": "markdown",
      "source": [
        "Montamos nuestra cuenta de Google Drive:"
      ],
      "metadata": {
        "id": "LGxZvP1vYbUv"
      },
      "id": "LGxZvP1vYbUv"
    },
    {
      "cell_type": "code",
      "source": [
        "drive.mount(\"/content/drive/\")"
      ],
      "metadata": {
        "colab": {
          "base_uri": "https://localhost:8080/"
        },
        "id": "cr81QWGmOpsf",
        "outputId": "09ffc5f4-7013-4994-af63-aa400213779e"
      },
      "execution_count": null,
      "outputs": [
        {
          "output_type": "stream",
          "name": "stdout",
          "text": [
            "Mounted at /content/drive/\n"
          ]
        }
      ],
      "id": "cr81QWGmOpsf"
    },
    {
      "cell_type": "markdown",
      "source": [
        "Descomprimimos el archivo:"
      ],
      "metadata": {
        "id": "xeWj3uaTYe8C"
      },
      "id": "xeWj3uaTYe8C"
    },
    {
      "cell_type": "code",
      "source": [
        "zip_path = \"/content/drive/MyDrive/trabajo_iae/datasets/od_dataset_clean.zip\"\n",
        "extract_path = \"/content/\"\n",
        "!unzip -q \"$zip_path\" -d \"$extract_path\""
      ],
      "metadata": {
        "id": "66Eyc4DCOt2f"
      },
      "execution_count": null,
      "outputs": [],
      "id": "66Eyc4DCOt2f"
    },
    {
      "cell_type": "markdown",
      "id": "41c5008d-8f58-4adf-a51a-00eb28983cbd",
      "metadata": {
        "id": "41c5008d-8f58-4adf-a51a-00eb28983cbd"
      },
      "source": [
        "Importamos los dataframes con las anotaciones en PascalVOC:"
      ]
    },
    {
      "cell_type": "code",
      "execution_count": null,
      "id": "73e8bb2e-a860-41da-9aa5-08b5dd8e0c9d",
      "metadata": {
        "id": "73e8bb2e-a860-41da-9aa5-08b5dd8e0c9d"
      },
      "outputs": [],
      "source": [
        "train_annotations = pd.read_feather(\"/content/drive/MyDrive/trabajo_iae/datasets/od_dataset_df/od_dataset_pv_train.feather\")\n",
        "val_annotations = pd.read_feather(\"/content/drive/MyDrive/trabajo_iae/datasets/od_dataset_df/od_dataset_pv_val.feather\")\n",
        "test_annotations = pd.read_feather(\"/content/drive/MyDrive/trabajo_iae/datasets/od_dataset_df/od_dataset_pv_test.feather\")\n",
        "\n",
        "# Descomentar si no lo corremos en colab\n",
        "# train_annotations = pd.read_feather(\"datasets/od_dataset_df/od_dataset_pv_train.feather\")\n",
        "# val_annotations = pd.read_feather(\"datasets/od_dataset_df/od_dataset_pv_val.feather\")\n",
        "# test_annotations = pd.read_feather(\"datasets/od_dataset_df/od_dataset_pv_test.feather\")"
      ]
    },
    {
      "cell_type": "markdown",
      "id": "39beca3c-4558-4777-a246-4436a988e0d1",
      "metadata": {
        "id": "39beca3c-4558-4777-a246-4436a988e0d1"
      },
      "source": [
        "Creamos las clases de los *datsets* de esta tarea para SSD300 y YOLOv5:"
      ]
    },
    {
      "cell_type": "code",
      "execution_count": null,
      "id": "6599283c-1f44-452a-acca-70c83b168712",
      "metadata": {
        "id": "6599283c-1f44-452a-acca-70c83b168712"
      },
      "outputs": [],
      "source": [
        "class ObjectDetectionDatasetSSD300(Dataset):\n",
        "    def __init__(self, annotations, images_path, w=300, h=300):\n",
        "        self.w = w\n",
        "        self.h = h\n",
        "        self.images_path = images_path\n",
        "        self.annotations = annotations\n",
        "        self.images = self.annotations[\"image\"].unique()\n",
        "        self.basic_transform = transforms.Compose([\n",
        "            transforms.ToPILImage(),\n",
        "            transforms.Resize((self.w, self.h)),\n",
        "            transforms.ToTensor()\n",
        "        ])\n",
        "\n",
        "    def __len__(self):\n",
        "        return len(self.images)\n",
        "\n",
        "    def __getitem__(self, ix):\n",
        "        image_id = self.images[ix]\n",
        "        image_path = f\"{self.images_path}/{image_id}\"\n",
        "        img = cv2.imread(image_path)\n",
        "        img = cv2.cvtColor(img, cv2.COLOR_BGR2RGB)\n",
        "\n",
        "        data = self.annotations[self.annotations[\"image\"] == image_id]\n",
        "\n",
        "        labels = data[\"class\"].values\n",
        "\n",
        "        data = data[[\"xmin\", \"ymin\", \"xmax\", \"ymax\"]].values\n",
        "        boxes = data.astype(np.uint32)\n",
        "\n",
        "        return img, boxes, labels\n",
        "\n",
        "    def collate_fn(self, batch):\n",
        "        images, boxes, labels = tuple(zip(*batch))\n",
        "        images_list = []\n",
        "        targets_list = []\n",
        "        for ix, image in enumerate(images):\n",
        "            target = {}\n",
        "            real_w, real_h = image.shape[1], image.shape[0]\n",
        "            image = self.basic_transform(image)\n",
        "\n",
        "            images_list.append(image)\n",
        "\n",
        "            boxes_array = boxes[ix]\n",
        "            boxes_array[:, 0] = boxes_array[:, 0] * self.w / real_w\n",
        "            boxes_array[:, 1] = boxes_array[:, 1] * self.h / real_h\n",
        "            boxes_array[:, 2] = boxes_array[:, 2] * self.w / real_w\n",
        "            boxes_array[:, 3] = boxes_array[:, 3] * self.h / real_h\n",
        "\n",
        "            target[\"boxes\"] = torch.Tensor(boxes_array).float().to(DEVICE)\n",
        "            target[\"labels\"] = torch.Tensor([label + 1 for label in labels[ix]]).long().to(DEVICE)\n",
        "\n",
        "            targets_list.append(target)\n",
        "\n",
        "\n",
        "        images = torch.stack(images_list).to(DEVICE)\n",
        "\n",
        "        return images, targets_list"
      ]
    },
    {
      "cell_type": "code",
      "execution_count": null,
      "id": "46a5f848-e563-4535-94d8-7367eaf8a1d4",
      "metadata": {
        "id": "46a5f848-e563-4535-94d8-7367eaf8a1d4"
      },
      "outputs": [],
      "source": [
        "class ObjectDetectionDatasetYOLOv5(Dataset):\n",
        "\n",
        "    def __init__(self, annotations, images_path, corrupt=set()):\n",
        "        self.images_path = images_path\n",
        "        self.annotations = annotations[~annotations[\"image\"].isin(corrupt)]\n",
        "        self.filenames = self.annotations[\"image\"].unique()\n",
        "\n",
        "    def __len__(self):\n",
        "        return len(self.filenames)\n",
        "\n",
        "    def __getitem__(self, ix):\n",
        "        image_id = self.filenames[ix]\n",
        "        image_path = f\"{self.images_path}/{image_id}\"\n",
        "        img = cv2.imread(image_path)\n",
        "        img = cv2.cvtColor(img, cv2.COLOR_BGR2RGB)\n",
        "\n",
        "        data = self.annotations[self.annotations[\"image\"] == image_id]\n",
        "\n",
        "        labels = data[\"class\"].values\n",
        "\n",
        "        data = data[[\"xmin\", \"ymin\", \"xmax\", \"ymax\"]].values\n",
        "        boxes = data.astype(np.uint32)\n",
        "\n",
        "        return img, boxes, labels"
      ]
    },
    {
      "cell_type": "markdown",
      "id": "d52118c8-9550-42d0-951d-a8ba12763779",
      "metadata": {
        "id": "d52118c8-9550-42d0-951d-a8ba12763779"
      },
      "source": [
        "Instanciamos las clases de los *datasets* y los *dataloaders*:"
      ]
    },
    {
      "cell_type": "code",
      "execution_count": null,
      "id": "72fe9519-fce8-4fc9-b55d-d4d5ba8c2fc7",
      "metadata": {
        "id": "72fe9519-fce8-4fc9-b55d-d4d5ba8c2fc7"
      },
      "outputs": [],
      "source": [
        "## SSD300\n",
        "# Conjunto de entrenamiento\n",
        "train_dataset_ssd300 = ObjectDetectionDatasetSSD300(\n",
        "    images_path=\"/content/od_dataset_clean/images/train/\", # \"datasets/od_dataset_clean/images/train/\"\n",
        "    annotations=train_annotations,\n",
        ")\n",
        "train_dataloader_ssd300 = DataLoader(train_dataset_ssd300, batch_size=16,\n",
        "                                     collate_fn=train_dataset_ssd300.collate_fn,\n",
        "                                     shuffle=True)\n",
        "\n",
        "# Conjunto de validacion\n",
        "val_dataset_ssd300 = ObjectDetectionDatasetSSD300(\n",
        "    images_path=\"/content/od_dataset_clean/images/val/\", # \"datasets/od_dataset_clean/images/val/\"\n",
        "    annotations=val_annotations,\n",
        ")\n",
        "val_dataloader_ssd300 = DataLoader(val_dataset_ssd300, batch_size=4,\n",
        "                                   collate_fn=val_dataset_ssd300.collate_fn)\n",
        "\n",
        "# Conjunto de test\n",
        "test_dataset_ssd300 = ObjectDetectionDatasetSSD300(\n",
        "    images_path=\"/content/od_dataset_clean/images/test/\", # \"datasets/od_dataset_clean/images/test/\"\n",
        "    annotations=test_annotations,\n",
        ")\n",
        "test_dataloader_ssd300 = DataLoader(test_dataset_ssd300, batch_size=4,\n",
        "                                    collate_fn=test_dataset_ssd300.collate_fn)\n",
        "\n",
        "\n",
        "## YOLOv5\n",
        "# Conjunto de validacion\n",
        "val_dataset_yolov5 = ObjectDetectionDatasetYOLOv5(\n",
        "    images_path=\"/content/od_dataset_clean/images/val/\",\n",
        "    annotations=val_annotations,\n",
        ")\n",
        "\n",
        "# Conjunto de test\n",
        "test_dataset_yolov5 = ObjectDetectionDatasetYOLOv5(\n",
        "    images_path=\"/content/od_dataset_clean/images/test/\",\n",
        "    annotations=test_annotations,\n",
        ")"
      ]
    },
    {
      "cell_type": "markdown",
      "id": "26c0d381-744b-4c3a-b8fa-b44e790e1a9d",
      "metadata": {
        "id": "26c0d381-744b-4c3a-b8fa-b44e790e1a9d"
      },
      "source": [
        "## SSD300"
      ]
    },
    {
      "cell_type": "markdown",
      "id": "6347f8aa-02e4-417d-a8be-75b5d45e5301",
      "metadata": {
        "id": "6347f8aa-02e4-417d-a8be-75b5d45e5301"
      },
      "source": [
        "### Modelo"
      ]
    },
    {
      "cell_type": "markdown",
      "id": "22fec9b0-93ec-4981-bdd4-bbb29b481a44",
      "metadata": {
        "id": "22fec9b0-93ec-4981-bdd4-bbb29b481a44"
      },
      "source": [
        "Echamos un vistazo al modelo:"
      ]
    },
    {
      "cell_type": "code",
      "execution_count": null,
      "id": "09c94af8-a3ef-4f13-ac9c-ff41141882e1",
      "metadata": {
        "colab": {
          "base_uri": "https://localhost:8080/"
        },
        "id": "09c94af8-a3ef-4f13-ac9c-ff41141882e1",
        "outputId": "04dfc90f-9c11-416b-a2b4-392219f3f5ad"
      },
      "outputs": [
        {
          "output_type": "stream",
          "name": "stderr",
          "text": [
            "Downloading: \"https://download.pytorch.org/models/ssd300_vgg16_coco-b556d3b4.pth\" to /root/.cache/torch/hub/checkpoints/ssd300_vgg16_coco-b556d3b4.pth\n",
            "100%|██████████| 136M/136M [00:01<00:00, 84.1MB/s]\n"
          ]
        },
        {
          "output_type": "execute_result",
          "data": {
            "text/plain": [
              "==========================================================================================\n",
              "Layer (type:depth-idx)                   Output Shape              Param #\n",
              "==========================================================================================\n",
              "SSD                                      [101, 4]                  --\n",
              "├─GeneralizedRCNNTransform: 1-1          [1, 3, 300, 300]          --\n",
              "├─SSDFeatureExtractorVGG: 1-2            [1, 256, 1, 1]            512\n",
              "│    └─Sequential: 2-1                   [1, 512, 38, 38]          --\n",
              "│    │    └─Conv2d: 3-1                  [1, 64, 300, 300]         (1,792)\n",
              "│    │    └─ReLU: 3-2                    [1, 64, 300, 300]         --\n",
              "│    │    └─Conv2d: 3-3                  [1, 64, 300, 300]         (36,928)\n",
              "│    │    └─ReLU: 3-4                    [1, 64, 300, 300]         --\n",
              "│    │    └─MaxPool2d: 3-5               [1, 64, 150, 150]         --\n",
              "│    │    └─Conv2d: 3-6                  [1, 128, 150, 150]        73,856\n",
              "│    │    └─ReLU: 3-7                    [1, 128, 150, 150]        --\n",
              "│    │    └─Conv2d: 3-8                  [1, 128, 150, 150]        147,584\n",
              "│    │    └─ReLU: 3-9                    [1, 128, 150, 150]        --\n",
              "│    │    └─MaxPool2d: 3-10              [1, 128, 75, 75]          --\n",
              "│    │    └─Conv2d: 3-11                 [1, 256, 75, 75]          295,168\n",
              "│    │    └─ReLU: 3-12                   [1, 256, 75, 75]          --\n",
              "│    │    └─Conv2d: 3-13                 [1, 256, 75, 75]          590,080\n",
              "│    │    └─ReLU: 3-14                   [1, 256, 75, 75]          --\n",
              "│    │    └─Conv2d: 3-15                 [1, 256, 75, 75]          590,080\n",
              "│    │    └─ReLU: 3-16                   [1, 256, 75, 75]          --\n",
              "│    │    └─MaxPool2d: 3-17              [1, 256, 38, 38]          --\n",
              "│    │    └─Conv2d: 3-18                 [1, 512, 38, 38]          1,180,160\n",
              "│    │    └─ReLU: 3-19                   [1, 512, 38, 38]          --\n",
              "│    │    └─Conv2d: 3-20                 [1, 512, 38, 38]          2,359,808\n",
              "│    │    └─ReLU: 3-21                   [1, 512, 38, 38]          --\n",
              "│    │    └─Conv2d: 3-22                 [1, 512, 38, 38]          2,359,808\n",
              "│    │    └─ReLU: 3-23                   [1, 512, 38, 38]          --\n",
              "│    └─ModuleList: 2-2                   --                        --\n",
              "│    │    └─Sequential: 3-24             [1, 1024, 19, 19]         12,848,640\n",
              "│    │    └─Sequential: 3-25             [1, 512, 10, 10]          1,442,560\n",
              "│    │    └─Sequential: 3-26             [1, 256, 5, 5]            360,832\n",
              "│    │    └─Sequential: 3-27             [1, 256, 3, 3]            328,064\n",
              "│    │    └─Sequential: 3-28             [1, 256, 1, 1]            328,064\n",
              "├─SSDHead: 1-3                           [1, 8732, 91]             --\n",
              "│    └─SSDRegressionHead: 2-3            [1, 8732, 4]              --\n",
              "│    │    └─ModuleList: 3-29             --                        534,648\n",
              "│    └─SSDClassificationHead: 2-4        [1, 8732, 91]             --\n",
              "│    │    └─ModuleList: 3-30             --                        12,163,242\n",
              "├─DefaultBoxGenerator: 1-4               [8732, 4]                 --\n",
              "==========================================================================================\n",
              "Total params: 35,641,826\n",
              "Trainable params: 35,603,106\n",
              "Non-trainable params: 38,720\n",
              "Total mult-adds (Units.GIGABYTES): 34.88\n",
              "==========================================================================================\n",
              "Input size (MB): 1.08\n",
              "Forward/backward pass size (MB): 208.89\n",
              "Params size (MB): 142.57\n",
              "Estimated Total Size (MB): 352.53\n",
              "=========================================================================================="
            ]
          },
          "metadata": {},
          "execution_count": 14
        }
      ],
      "source": [
        "model = ssd300_vgg16(weights=SSD300_VGG16_Weights.DEFAULT)\n",
        "summary(model,  input_data=torch.rand(1, 3, 300, 300))"
      ]
    },
    {
      "cell_type": "code",
      "execution_count": null,
      "id": "40b7d581-d039-4939-adbf-0d1138b3ce3d",
      "metadata": {
        "colab": {
          "base_uri": "https://localhost:8080/"
        },
        "id": "40b7d581-d039-4939-adbf-0d1138b3ce3d",
        "outputId": "63351045-3c3a-4430-cb4a-df561f7eeb35"
      },
      "outputs": [
        {
          "output_type": "execute_result",
          "data": {
            "text/plain": [
              "SSDClassificationHead(\n",
              "  (module_list): ModuleList(\n",
              "    (0): Conv2d(512, 364, kernel_size=(3, 3), stride=(1, 1), padding=(1, 1))\n",
              "    (1): Conv2d(1024, 546, kernel_size=(3, 3), stride=(1, 1), padding=(1, 1))\n",
              "    (2): Conv2d(512, 546, kernel_size=(3, 3), stride=(1, 1), padding=(1, 1))\n",
              "    (3): Conv2d(256, 546, kernel_size=(3, 3), stride=(1, 1), padding=(1, 1))\n",
              "    (4-5): 2 x Conv2d(256, 364, kernel_size=(3, 3), stride=(1, 1), padding=(1, 1))\n",
              "  )\n",
              ")"
            ]
          },
          "metadata": {},
          "execution_count": 15
        }
      ],
      "source": [
        "model.head.classification_head"
      ]
    },
    {
      "cell_type": "markdown",
      "id": "f96da031-c5ac-4649-bb49-dcbb8345ace2",
      "metadata": {
        "id": "f96da031-c5ac-4649-bb49-dcbb8345ace2"
      },
      "source": [
        "Definimos una función que congele todas los pesos de las capas del modelo y sustituya la cabeza por una adaptada a nuestras clases con los pesos descongelados:"
      ]
    },
    {
      "cell_type": "code",
      "execution_count": null,
      "id": "0d11c664-0929-46b5-909f-ea3b55335169",
      "metadata": {
        "id": "0d11c664-0929-46b5-909f-ea3b55335169"
      },
      "outputs": [],
      "source": [
        "def get_model_ssd300(num_classes):\n",
        "    \"\"\"\n",
        "    Nos permite obtener un modelo SSD300 listo para aplicar transfer learning\n",
        "    (con su cabeza descongelada) y su optimizador (Adam).\n",
        "    \"\"\"\n",
        "\n",
        "    model = ssd300_vgg16(weights=SSD300_VGG16_Weights.DEFAULT)\n",
        "\n",
        "    for param in model.backbone.parameters():\n",
        "        param.requires_grad = False\n",
        "\n",
        "    in_channels = \\\n",
        "    [layer.in_channels for layer in model.head.classification_head.module_list]\n",
        "\n",
        "    boxes_per_class_1 = 364 // 91\n",
        "    boxes_per_class_2 = 546 // 91\n",
        "\n",
        "    num_anchors = [boxes_per_class_1] + \\\n",
        "      3 * [boxes_per_class_2] + \\\n",
        "      2 * [boxes_per_class_1]\n",
        "\n",
        "    model.head = SSDHead(\n",
        "        in_channels=in_channels,\n",
        "        num_anchors=num_anchors,\n",
        "        num_classes=num_classes + 1\n",
        "    ).to(DEVICE)\n",
        "\n",
        "    optimizer = torch.optim.AdamW(model.parameters(), lr=1e-4, weight_decay=1e-5)\n",
        "\n",
        "    return model.to(DEVICE), optimizer"
      ]
    },
    {
      "cell_type": "markdown",
      "id": "5c7dd56c-5ee8-40a2-89b7-902362083ec5",
      "metadata": {
        "id": "5c7dd56c-5ee8-40a2-89b7-902362083ec5"
      },
      "source": [
        "Obtenemos el modelo listo para entrenar:"
      ]
    },
    {
      "cell_type": "code",
      "execution_count": null,
      "id": "a2c907cd-e51b-4a8f-a4cc-649b2a76fc9f",
      "metadata": {
        "colab": {
          "base_uri": "https://localhost:8080/"
        },
        "id": "a2c907cd-e51b-4a8f-a4cc-649b2a76fc9f",
        "outputId": "68137182-7dcc-4ef4-cc58-8e4ce2912a20"
      },
      "outputs": [
        {
          "output_type": "execute_result",
          "data": {
            "text/plain": [
              "==========================================================================================\n",
              "Layer (type:depth-idx)                   Output Shape              Param #\n",
              "==========================================================================================\n",
              "SSD                                      [200, 4]                  --\n",
              "├─GeneralizedRCNNTransform: 1-1          [1, 3, 300, 300]          --\n",
              "├─SSDFeatureExtractorVGG: 1-2            [1, 256, 1, 1]            512\n",
              "│    └─Sequential: 2-1                   [1, 512, 38, 38]          --\n",
              "│    │    └─Conv2d: 3-1                  [1, 64, 300, 300]         (1,792)\n",
              "│    │    └─ReLU: 3-2                    [1, 64, 300, 300]         --\n",
              "│    │    └─Conv2d: 3-3                  [1, 64, 300, 300]         (36,928)\n",
              "│    │    └─ReLU: 3-4                    [1, 64, 300, 300]         --\n",
              "│    │    └─MaxPool2d: 3-5               [1, 64, 150, 150]         --\n",
              "│    │    └─Conv2d: 3-6                  [1, 128, 150, 150]        (73,856)\n",
              "│    │    └─ReLU: 3-7                    [1, 128, 150, 150]        --\n",
              "│    │    └─Conv2d: 3-8                  [1, 128, 150, 150]        (147,584)\n",
              "│    │    └─ReLU: 3-9                    [1, 128, 150, 150]        --\n",
              "│    │    └─MaxPool2d: 3-10              [1, 128, 75, 75]          --\n",
              "│    │    └─Conv2d: 3-11                 [1, 256, 75, 75]          (295,168)\n",
              "│    │    └─ReLU: 3-12                   [1, 256, 75, 75]          --\n",
              "│    │    └─Conv2d: 3-13                 [1, 256, 75, 75]          (590,080)\n",
              "│    │    └─ReLU: 3-14                   [1, 256, 75, 75]          --\n",
              "│    │    └─Conv2d: 3-15                 [1, 256, 75, 75]          (590,080)\n",
              "│    │    └─ReLU: 3-16                   [1, 256, 75, 75]          --\n",
              "│    │    └─MaxPool2d: 3-17              [1, 256, 38, 38]          --\n",
              "│    │    └─Conv2d: 3-18                 [1, 512, 38, 38]          (1,180,160)\n",
              "│    │    └─ReLU: 3-19                   [1, 512, 38, 38]          --\n",
              "│    │    └─Conv2d: 3-20                 [1, 512, 38, 38]          (2,359,808)\n",
              "│    │    └─ReLU: 3-21                   [1, 512, 38, 38]          --\n",
              "│    │    └─Conv2d: 3-22                 [1, 512, 38, 38]          (2,359,808)\n",
              "│    │    └─ReLU: 3-23                   [1, 512, 38, 38]          --\n",
              "│    └─ModuleList: 2-2                   --                        --\n",
              "│    │    └─Sequential: 3-24             [1, 1024, 19, 19]         (12,848,640)\n",
              "│    │    └─Sequential: 3-25             [1, 512, 10, 10]          (1,442,560)\n",
              "│    │    └─Sequential: 3-26             [1, 256, 5, 5]            (360,832)\n",
              "│    │    └─Sequential: 3-27             [1, 256, 3, 3]            (328,064)\n",
              "│    │    └─Sequential: 3-28             [1, 256, 1, 1]            (328,064)\n",
              "├─SSDHead: 1-3                           [1, 8732, 12]             --\n",
              "│    └─SSDRegressionHead: 2-3            [1, 8732, 4]              --\n",
              "│    │    └─ModuleList: 3-29             --                        534,648\n",
              "│    └─SSDClassificationHead: 2-4        [1, 8732, 12]             --\n",
              "│    │    └─ModuleList: 3-30             --                        1,603,944\n",
              "├─DefaultBoxGenerator: 1-4               [8732, 4]                 --\n",
              "==========================================================================================\n",
              "Total params: 25,082,528\n",
              "Trainable params: 2,138,592\n",
              "Non-trainable params: 22,943,936\n",
              "Total mult-adds (Units.GIGABYTES): 30.95\n",
              "==========================================================================================\n",
              "Input size (MB): 1.08\n",
              "Forward/backward pass size (MB): 203.37\n",
              "Params size (MB): 100.33\n",
              "Estimated Total Size (MB): 304.78\n",
              "=========================================================================================="
            ]
          },
          "metadata": {},
          "execution_count": 17
        }
      ],
      "source": [
        "model_ssd300, optimizer = get_model_ssd300(num_classes=11)\n",
        "summary(model_ssd300, input_size=(1, 3, 300, 300))"
      ]
    },
    {
      "cell_type": "markdown",
      "id": "8b193a58-450a-406d-8078-fa870032d77e",
      "metadata": {
        "id": "8b193a58-450a-406d-8078-fa870032d77e"
      },
      "source": [
        "Entrenamos el modelo:"
      ]
    },
    {
      "cell_type": "code",
      "execution_count": null,
      "id": "1335b4dd-3ca3-46bc-aa14-afa480597859",
      "metadata": {
        "colab": {
          "base_uri": "https://localhost:8080/"
        },
        "id": "1335b4dd-3ca3-46bc-aa14-afa480597859",
        "outputId": "a2c44b94-f94d-4135-8720-36204c5bb28e"
      },
      "outputs": [
        {
          "output_type": "stream",
          "name": "stdout",
          "text": [
            "===============================================================================\n",
            "Epoch: 1 - Started: 25/05/25 22:21:26\n"
          ]
        },
        {
          "output_type": "stream",
          "name": "stderr",
          "text": [
            "- Training: 100%|██████████| 710/710 [05:57<00:00,  1.98it/s]\n",
            "- Validation: 100%|██████████| 407/407 [00:51<00:00,  7.97it/s]"
          ]
        },
        {
          "output_type": "stream",
          "name": "stdout",
          "text": [
            "Epoch: 1 - Ended: 25/05/25 22:28:15 - Duration: 408.94s\n",
            "\n",
            "Training Loss: 6.21949133940146 - Validation Loss: 3.8594410738722407\n",
            "===============================================================================\n",
            "\n"
          ]
        },
        {
          "output_type": "stream",
          "name": "stderr",
          "text": [
            "\n"
          ]
        }
      ],
      "source": [
        "train_losses, train_losses_classifier, train_losses_box_reg, \\\n",
        "    val_losses, val_losses_classifier, val_losses_box_reg, \\\n",
        "    best_model = \\\n",
        "    train_model(model_ssd300, optimizer, train_dataloader_ssd300, val_dataloader_ssd300, epochs=1)"
      ]
    },
    {
      "cell_type": "markdown",
      "id": "10f9185b-69c9-41cc-9eb7-ad51bc588875",
      "metadata": {
        "id": "10f9185b-69c9-41cc-9eb7-ad51bc588875"
      },
      "source": [
        "Guardamos los frutos del entrenamiento (serializamos en pth, propio de Pytorch):"
      ]
    },
    {
      "cell_type": "code",
      "execution_count": null,
      "id": "86fba07a-7a8a-432f-adb8-51ef869716f4",
      "metadata": {
        "id": "86fba07a-7a8a-432f-adb8-51ef869716f4"
      },
      "outputs": [],
      "source": [
        "torch.save({\n",
        "    \"epoch\": 20,\n",
        "    \"model_state_dict\": model_ssd300.state_dict(),\n",
        "    \"optimizer_state_dict\": optimizer.state_dict(),\n",
        "    \"loss\": train_losses[-1],\n",
        "    \"train_losses\": train_losses,\n",
        "    \"train_losses_classifier\": train_losses_classifier,\n",
        "    \"train_losses_box_reg\": train_losses_box_reg,\n",
        "    \"val_losses\": val_losses,\n",
        "    \"val_losses_classifier\": val_losses_classifier,\n",
        "    \"val_losses_box_reg\": val_losses_box_reg,\n",
        "    \"best_model\": best_model\n",
        "    }, \"/content/drive/MyDrive/trabajo_iae/modelos/ssd300.pth\" # \"modelos/ssd300.pth\"\n",
        ")"
      ]
    },
    {
      "cell_type": "markdown",
      "id": "e6b77fa8-5000-4177-a251-85ac2f76f22e",
      "metadata": {
        "id": "e6b77fa8-5000-4177-a251-85ac2f76f22e"
      },
      "source": [
        "### Resultados"
      ]
    },
    {
      "cell_type": "markdown",
      "id": "022a631f-fd6e-46e9-9bda-b5d8d09e7dbe",
      "metadata": {
        "id": "022a631f-fd6e-46e9-9bda-b5d8d09e7dbe"
      },
      "source": [
        "Cargamos el checkpoint:"
      ]
    },
    {
      "cell_type": "code",
      "execution_count": null,
      "id": "0bd42f75-7bfd-4f6d-9a77-b1f7555be568",
      "metadata": {
        "id": "0bd42f75-7bfd-4f6d-9a77-b1f7555be568"
      },
      "outputs": [],
      "source": [
        "checkpoint = torch.load(\"/content/drive/MyDrive/trabajo_iae/modelos/ssd300.pth\", weights_only=False) # \"modelos/ssd300.pth\"\n",
        "\n",
        "model_ssd300, _ = get_model_ssd300(11)\n",
        "model_ssd300.load_state_dict(checkpoint[\"best_model\"][\"model_state_dict\"])"
      ]
    },
    {
      "cell_type": "markdown",
      "id": "60643196-3c7a-4d2b-a94a-053cf0711175",
      "metadata": {
        "id": "60643196-3c7a-4d2b-a94a-053cf0711175"
      },
      "source": [
        "Representamos la evolución de las distintas pérdidas del modelo durante el entrenamiento:"
      ]
    },
    {
      "cell_type": "code",
      "execution_count": null,
      "id": "19ed0e9e-89e9-44e7-9ea9-23663ff828ed",
      "metadata": {
        "colab": {
          "base_uri": "https://localhost:8080/",
          "height": 307
        },
        "id": "19ed0e9e-89e9-44e7-9ea9-23663ff828ed",
        "outputId": "89778ee9-daed-465f-e98a-95540c29fda9"
      },
      "outputs": [
        {
          "output_type": "display_data",
          "data": {
            "text/plain": [
              "<Figure size 900x300 with 3 Axes>"
            ],
            "image/png": "[encoded data removed]"
          },
          "metadata": {}
        }
      ],
      "source": [
        "plot_training_results_ssd(checkpoint)"
      ]
    },
    {
      "cell_type": "markdown",
      "id": "28103188-678e-40ad-ac9e-7b13d3eb91e6",
      "metadata": {
        "id": "28103188-678e-40ad-ac9e-7b13d3eb91e6"
      },
      "source": [
        "Estimamos los FPS del modelo:"
      ]
    },
    {
      "cell_type": "code",
      "execution_count": null,
      "id": "ec14dca1-cab7-4062-9eed-dcf2c2ebf602",
      "metadata": {
        "colab": {
          "base_uri": "https://localhost:8080/"
        },
        "id": "ec14dca1-cab7-4062-9eed-dcf2c2ebf602",
        "outputId": "663a304b-273e-4331-c596-099cd31f126e"
      },
      "outputs": [
        {
          "output_type": "stream",
          "name": "stdout",
          "text": [
            "FPS: 20.99\n"
          ]
        }
      ],
      "source": [
        "_ = measure_fps_ssd(model_ssd300, val_dataset_ssd300, val_dataloader_ssd300)"
      ]
    },
    {
      "cell_type": "markdown",
      "id": "f310c208-f1db-4207-906c-832e2faea9da",
      "metadata": {
        "id": "f310c208-f1db-4207-906c-832e2faea9da"
      },
      "source": [
        "Medimos la mAP del modelo:"
      ]
    },
    {
      "cell_type": "code",
      "execution_count": null,
      "id": "4b93494d-765e-4e0c-a794-1d11b43b03c2",
      "metadata": {
        "colab": {
          "base_uri": "https://localhost:8080/"
        },
        "id": "4b93494d-765e-4e0c-a794-1d11b43b03c2",
        "outputId": "1e4333cf-8114-443a-848c-ee425116598d"
      },
      "outputs": [
        {
          "output_type": "stream",
          "name": "stderr",
          "text": [
            "100%|██████████| 407/407 [01:46<00:00,  3.81it/s]\n"
          ]
        },
        {
          "output_type": "stream",
          "name": "stdout",
          "text": [
            "mAP@0.5: 0.6769\n",
            "mAP@0.55: 0.6676\n",
            "mAP@0.6: 0.6529\n",
            "mAP@0.65: 0.6343\n",
            "mAP@0.7: 0.6031\n",
            "mAP@0.75: 0.5537\n",
            "mAP@0.8: 0.4624\n",
            "mAP@0.85: 0.3097\n",
            "mAP@0.9: 0.1008\n",
            "mAP@0.95: 0.0054\n",
            "Average mAP: 0.4667\n"
          ]
        }
      ],
      "source": [
        "_ = calcula_map_ssd(model_ssd300, val_dataset_ssd300, val_dataloader_ssd300, iou_list=np.round(np.linspace(0.5, 0.95, 10), 2))"
      ]
    },
    {
      "cell_type": "markdown",
      "id": "e7554245-4e2b-4707-96ce-5b32eb229946",
      "metadata": {
        "id": "e7554245-4e2b-4707-96ce-5b32eb229946"
      },
      "source": [
        "## YOLOv5"
      ]
    },
    {
      "cell_type": "markdown",
      "id": "69c9b17c-0e28-4606-828b-b7abbb229ac2",
      "metadata": {
        "id": "69c9b17c-0e28-4606-828b-b7abbb229ac2"
      },
      "source": [
        "### Modelo"
      ]
    },
    {
      "cell_type": "markdown",
      "id": "c3deca29-6205-4a51-8ace-30513332c9b4",
      "metadata": {
        "id": "c3deca29-6205-4a51-8ace-30513332c9b4"
      },
      "source": [
        "Creamos el archivo YAML necesario para configurar el modelo:"
      ]
    },
    {
      "cell_type": "code",
      "execution_count": null,
      "id": "45b6d67d-62b8-4f93-8c85-173950e101ad",
      "metadata": {
        "colab": {
          "base_uri": "https://localhost:8080/"
        },
        "id": "45b6d67d-62b8-4f93-8c85-173950e101ad",
        "outputId": "ff59457e-436b-475d-c1f7-9ef3270dca58"
      },
      "outputs": [
        {
          "output_type": "stream",
          "name": "stdout",
          "text": [
            "Writing od_dataset.yaml\n"
          ]
        }
      ],
      "source": [
        "%%writefile od_dataset.yaml\n",
        "\n",
        "path: od_dataset_clean\n",
        "train: images/train\n",
        "val: images/val\n",
        "\n",
        "# Classes\n",
        "names:\n",
        "  0: Tank (TANK)\n",
        "  1: Infantry fighting vehicle (IFV)\n",
        "  2: Armored personnel carrier (APC)\n",
        "  3: Engineering vehicle (EV)\n",
        "  4: Assault helicopter (AH)\n",
        "  5: Transport helicopter (TH)\n",
        "  6: Assault airplane (AAP)\n",
        "  7: Transport airplane (TA)\n",
        "  8: Anti-aircraft vehicle (AA)\n",
        "  9: Towed artillery (TART)\n",
        "  10: Self-propelled artillery (SPART)\n",
        "\n",
        "augment: False"
      ]
    },
    {
      "cell_type": "markdown",
      "id": "13bafd05-f579-41e4-8243-4c638893207d",
      "metadata": {
        "id": "13bafd05-f579-41e4-8243-4c638893207d"
      },
      "source": [
        "Obtenemos el modelo:"
      ]
    },
    {
      "cell_type": "code",
      "execution_count": null,
      "id": "fcfe5a1d-f79b-4e26-801e-f68918200f83",
      "metadata": {
        "colab": {
          "base_uri": "https://localhost:8080/"
        },
        "id": "fcfe5a1d-f79b-4e26-801e-f68918200f83",
        "outputId": "bc053056-6b57-418e-ccac-cd8d9e00814f"
      },
      "outputs": [
        {
          "output_type": "stream",
          "name": "stdout",
          "text": [
            "PRO TIP 💡 Replace 'model=yolov5m.pt' with new 'model=yolov5mu.pt'.\n",
            "YOLOv5 'u' models are trained with https://github.com/ultralytics/ultralytics and feature improved performance vs standard YOLOv5 models trained with https://github.com/ultralytics/yolov5.\n",
            "\n",
            "Downloading https://github.com/ultralytics/assets/releases/download/v8.3.0/yolov5mu.pt to 'yolov5mu.pt'...\n"
          ]
        },
        {
          "output_type": "stream",
          "name": "stderr",
          "text": [
            "100%|██████████| 48.2M/48.2M [00:00<00:00, 76.3MB/s]\n"
          ]
        }
      ],
      "source": [
        "model_yolov5 = YOLO(\"yolov5m.pt\")"
      ]
    },
    {
      "cell_type": "markdown",
      "id": "7354fdab-4ed5-4340-bddd-88d6cfa63f69",
      "metadata": {
        "id": "7354fdab-4ed5-4340-bddd-88d6cfa63f69"
      },
      "source": [
        "Entrenamos el modelo, tratando de que las condiciones sean lo más parecidas posibles a SSD300:"
      ]
    },
    {
      "cell_type": "code",
      "execution_count": null,
      "id": "6bbb61df-2dbb-44e2-989b-715c49b7fa66",
      "metadata": {
        "colab": {
          "base_uri": "https://localhost:8080/"
        },
        "id": "6bbb61df-2dbb-44e2-989b-715c49b7fa66",
        "outputId": "9d652738-dc9b-4a36-bf5e-687566fb4019"
      },
      "outputs": [
        {
          "output_type": "stream",
          "name": "stdout",
          "text": [
            "Ultralytics 8.3.144 🚀 Python-3.11.12 torch-2.6.0+cu124 CUDA:0 (Tesla T4, 15095MiB)\n",
            "\u001b[34m\u001b[1mengine/trainer: \u001b[0magnostic_nms=False, amp=True, augment=False, auto_augment=randaugment, batch=16, bgr=0.0, box=7.5, cache=False, cfg=None, classes=None, close_mosaic=10, cls=0.5, conf=None, copy_paste=0.0, copy_paste_mode=flip, cos_lr=False, cutmix=0.0, data=od_dataset.yaml, degrees=0.0, deterministic=True, device=0, dfl=1.5, dnn=False, dropout=0.0, dynamic=False, embed=None, epochs=1, erasing=0.4, exist_ok=False, fliplr=0.5, flipud=0.0, format=torchscript, fraction=1.0, freeze=None, half=False, hsv_h=0.015, hsv_s=0.7, hsv_v=0.4, imgsz=640, int8=False, iou=0.7, keras=False, kobj=1.0, line_width=None, lr0=0.0001, lrf=1.0, mask_ratio=4, max_det=300, mixup=0.0, mode=train, model=yolov5m.pt, momentum=0.9, mosaic=1.0, multi_scale=False, name=yolov5, nbs=64, nms=False, opset=None, optimize=False, optimizer=AdamW, overlap_mask=True, patience=100, perspective=0.0, plots=True, pose=12.0, pretrained=True, profile=False, project=None, rect=False, resume=False, retina_masks=False, save=True, save_conf=False, save_crop=False, save_dir=runs/detect/yolov5, save_frames=False, save_json=False, save_period=-1, save_txt=False, scale=0.5, seed=0, shear=0.0, show=False, show_boxes=True, show_conf=True, show_labels=True, simplify=True, single_cls=False, source=None, split=val, stream_buffer=False, task=detect, time=None, tracker=botsort.yaml, translate=0.1, val=True, verbose=True, vid_stride=1, visualize=False, warmup_bias_lr=0.1, warmup_epochs=3.0, warmup_momentum=0.8, weight_decay=1e-05, workers=8, workspace=None\n",
            "Downloading https://ultralytics.com/assets/Arial.ttf to '/root/.config/Ultralytics/Arial.ttf'...\n"
          ]
        },
        {
          "output_type": "stream",
          "name": "stderr",
          "text": [
            "100%|██████████| 755k/755k [00:00<00:00, 17.9MB/s]"
          ]
        },
        {
          "output_type": "stream",
          "name": "stdout",
          "text": [
            "Overriding model.yaml nc=80 with nc=11\n",
            "\n",
            "                   from  n    params  module                                       arguments                     \n",
            "  0                  -1  1      5280  ultralytics.nn.modules.conv.Conv             [3, 48, 6, 2, 2]              \n",
            "  1                  -1  1     41664  ultralytics.nn.modules.conv.Conv             [48, 96, 3, 2]                \n",
            "  2                  -1  2     65280  ultralytics.nn.modules.block.C3              [96, 96, 2]                   \n",
            "  3                  -1  1    166272  ultralytics.nn.modules.conv.Conv             [96, 192, 3, 2]               \n",
            "  4                  -1  4    444672  ultralytics.nn.modules.block.C3              [192, 192, 4]                 \n",
            "  5                  -1  1    664320  ultralytics.nn.modules.conv.Conv             [192, 384, 3, 2]              \n",
            "  6                  -1  6   2512896  ultralytics.nn.modules.block.C3              [384, 384, 6]                 \n",
            "  7                  -1  1   2655744  ultralytics.nn.modules.conv.Conv             [384, 768, 3, 2]              \n",
            "  8                  -1  2   4134912  ultralytics.nn.modules.block.C3              [768, 768, 2]                 \n",
            "  9                  -1  1   1476864  ultralytics.nn.modules.block.SPPF            [768, 768, 5]                 \n",
            " 10                  -1  1    295680  ultralytics.nn.modules.conv.Conv             [768, 384, 1, 1]              \n",
            " 11                  -1  1         0  torch.nn.modules.upsampling.Upsample         [None, 2, 'nearest']          \n",
            " 12             [-1, 6]  1         0  ultralytics.nn.modules.conv.Concat           [1]                           \n",
            " 13                  -1  2   1182720  ultralytics.nn.modules.block.C3              [768, 384, 2, False]          \n",
            " 14                  -1  1     74112  ultralytics.nn.modules.conv.Conv             [384, 192, 1, 1]              \n",
            " 15                  -1  1         0  torch.nn.modules.upsampling.Upsample         [None, 2, 'nearest']          \n",
            " 16             [-1, 4]  1         0  ultralytics.nn.modules.conv.Concat           [1]                           \n",
            " 17                  -1  2    296448  ultralytics.nn.modules.block.C3              [384, 192, 2, False]          \n",
            " 18                  -1  1    332160  ultralytics.nn.modules.conv.Conv             [192, 192, 3, 2]              \n",
            " 19            [-1, 14]  1         0  ultralytics.nn.modules.conv.Concat           [1]                           \n"
          ]
        },
        {
          "output_type": "stream",
          "name": "stderr",
          "text": [
            "\n"
          ]
        },
        {
          "output_type": "stream",
          "name": "stdout",
          "text": [
            " 20                  -1  2   1035264  ultralytics.nn.modules.block.C3              [384, 384, 2, False]          \n",
            " 21                  -1  1   1327872  ultralytics.nn.modules.conv.Conv             [384, 384, 3, 2]              \n",
            " 22            [-1, 10]  1         0  ultralytics.nn.modules.conv.Concat           [1]                           \n",
            " 23                  -1  2   4134912  ultralytics.nn.modules.block.C3              [768, 768, 2, False]          \n",
            " 24        [17, 20, 23]  1   4224433  ultralytics.nn.modules.head.Detect           [11, [192, 384, 768]]         \n",
            "YOLOv5m summary: 197 layers, 25,071,505 parameters, 25,071,489 gradients, 64.4 GFLOPs\n",
            "\n",
            "Transferred 553/559 items from pretrained weights\n",
            "Freezing layer 'model.24.dfl.conv.weight'\n",
            "\u001b[34m\u001b[1mAMP: \u001b[0mrunning Automatic Mixed Precision (AMP) checks...\n",
            "Downloading https://github.com/ultralytics/assets/releases/download/v8.3.0/yolo11n.pt to 'yolo11n.pt'...\n"
          ]
        },
        {
          "output_type": "stream",
          "name": "stderr",
          "text": [
            "100%|██████████| 5.35M/5.35M [00:00<00:00, 84.7MB/s]\n"
          ]
        },
        {
          "output_type": "stream",
          "name": "stdout",
          "text": [
            "\u001b[34m\u001b[1mAMP: \u001b[0mchecks passed ✅\n",
            "\u001b[34m\u001b[1mtrain: \u001b[0mFast image access ✅ (ping: 0.0±0.0 ms, read: 873.3±1349.8 MB/s, size: 101.9 KB)\n"
          ]
        },
        {
          "output_type": "stream",
          "name": "stderr",
          "text": [
            "\u001b[34m\u001b[1mtrain: \u001b[0mScanning /content/od_dataset_clean/labels/train... 11350 images, 0 backgrounds, 0 corrupt: 100%|██████████| 11350/11350 [00:10<00:00, 1054.46it/s]\n"
          ]
        },
        {
          "output_type": "stream",
          "name": "stdout",
          "text": [
            "\u001b[34m\u001b[1mtrain: \u001b[0mNew cache created: /content/od_dataset_clean/labels/train.cache\n",
            "\u001b[34m\u001b[1mval: \u001b[0mFast image access ✅ (ping: 0.0±0.0 ms, read: 439.3±180.3 MB/s, size: 173.1 KB)\n"
          ]
        },
        {
          "output_type": "stream",
          "name": "stderr",
          "text": [
            "\u001b[34m\u001b[1mval: \u001b[0mScanning /content/od_dataset_clean/labels/val... 1627 images, 0 backgrounds, 0 corrupt: 100%|██████████| 1627/1627 [00:01<00:00, 929.71it/s] "
          ]
        },
        {
          "output_type": "stream",
          "name": "stdout",
          "text": [
            "\u001b[34m\u001b[1mval: \u001b[0mNew cache created: /content/od_dataset_clean/labels/val.cache\n"
          ]
        },
        {
          "output_type": "stream",
          "name": "stderr",
          "text": [
            "\n"
          ]
        },
        {
          "output_type": "stream",
          "name": "stdout",
          "text": [
            "Plotting labels to runs/detect/yolov5/labels.jpg... \n",
            "\u001b[34m\u001b[1moptimizer:\u001b[0m AdamW(lr=0.0001, momentum=0.9) with parameter groups 91 weight(decay=0.0), 98 weight(decay=1e-05), 97 bias(decay=0.0)\n",
            "Image sizes 640 train, 640 val\n",
            "Using 2 dataloader workers\n",
            "Logging results to \u001b[1mruns/detect/yolov5\u001b[0m\n",
            "Starting training for 1 epochs...\n",
            "\n",
            "      Epoch    GPU_mem   box_loss   cls_loss   dfl_loss  Instances       Size\n"
          ]
        },
        {
          "output_type": "stream",
          "name": "stderr",
          "text": [
            "        1/1       6.1G      1.659       1.48      1.469         27        640: 100%|██████████| 710/710 [06:05<00:00,  1.94it/s]\n",
            "                 Class     Images  Instances      Box(P          R      mAP50  mAP50-95): 100%|██████████| 51/51 [00:21<00:00,  2.35it/s]\n"
          ]
        },
        {
          "output_type": "stream",
          "name": "stdout",
          "text": [
            "                   all       1627       3941      0.856      0.777      0.846      0.484\n",
            "\n",
            "1 epochs completed in 0.119 hours.\n",
            "Optimizer stripped from runs/detect/yolov5/weights/last.pt, 50.5MB\n",
            "Optimizer stripped from runs/detect/yolov5/weights/best.pt, 50.5MB\n",
            "\n",
            "Validating runs/detect/yolov5/weights/best.pt...\n",
            "Ultralytics 8.3.144 🚀 Python-3.11.12 torch-2.6.0+cu124 CUDA:0 (Tesla T4, 15095MiB)\n",
            "YOLOv5m summary (fused): 106 layers, 25,051,585 parameters, 0 gradients, 64.0 GFLOPs\n"
          ]
        },
        {
          "output_type": "stream",
          "name": "stderr",
          "text": [
            "                 Class     Images  Instances      Box(P          R      mAP50  mAP50-95): 100%|██████████| 51/51 [00:19<00:00,  2.62it/s]\n"
          ]
        },
        {
          "output_type": "stream",
          "name": "stdout",
          "text": [
            "                   all       1627       3941      0.854      0.775      0.845      0.484\n",
            "           Tank (TANK)        288        663      0.794      0.811      0.837      0.444\n",
            "Infantry fighting vehicle (IFV)        117        229      0.957      0.675      0.845      0.483\n",
            "Armored personnel carrier (APC)        183        775      0.848      0.817       0.85      0.497\n",
            "Engineering vehicle (EV)        245        280      0.839      0.993       0.98      0.665\n",
            "Assault helicopter (AH)         84        242      0.899      0.405      0.649      0.282\n",
            "Transport helicopter (TH)         83        116      0.922      0.733      0.805        0.4\n",
            "Assault airplane (AAP)         80        115      0.977      0.744      0.841      0.391\n",
            "Transport airplane (TA)        158        359      0.843      0.913      0.954      0.633\n",
            "Anti-aircraft vehicle (AA)         56        153      0.823      0.935      0.944      0.682\n",
            "Towed artillery (TART)        214        289      0.893      0.778      0.871      0.493\n",
            "Self-propelled artillery (SPART)        307        720      0.605      0.724      0.722      0.354\n",
            "Speed: 0.2ms preprocess, 4.7ms inference, 0.0ms loss, 1.9ms postprocess per image\n",
            "Results saved to \u001b[1mruns/detect/yolov5\u001b[0m\n"
          ]
        }
      ],
      "source": [
        "_ = model_yolov5.train(\n",
        "    data=\"od_dataset.yaml\", # datasets/od_dataset.yaml\n",
        "    epochs=1,\n",
        "    device=\"cuda\",\n",
        "    augment=False,\n",
        "    optimizer='AdamW',\n",
        "    lr0=1e-4,\n",
        "    lrf=1.0,\n",
        "    weight_decay=1e-5,\n",
        "    momentum=0.9,\n",
        "    name=\"yolov5\" # + project=modelos\n",
        ")"
      ]
    },
    {
      "cell_type": "code",
      "source": [
        "import shutil"
      ],
      "metadata": {
        "id": "Pcdv9VKPnyDE"
      },
      "id": "Pcdv9VKPnyDE",
      "execution_count": null,
      "outputs": []
    },
    {
      "cell_type": "code",
      "source": [
        "shutil.make_archive(\n",
        "    \"yolov5\",\n",
        "    \"zip\",\n",
        "    \"/content/runs/detect/\",\n",
        "    \"yolov5\"\n",
        ")"
      ],
      "metadata": {
        "colab": {
          "base_uri": "https://localhost:8080/",
          "height": 35
        },
        "id": "0Q44ygxqnuIE",
        "outputId": "7745392e-4ccd-4bb5-b04a-1de0b53eb741"
      },
      "id": "0Q44ygxqnuIE",
      "execution_count": null,
      "outputs": [
        {
          "output_type": "execute_result",
          "data": {
            "text/plain": [
              "'/content/yolov5.zip'"
            ],
            "application/vnd.google.colaboratory.intrinsic+json": {
              "type": "string"
            }
          },
          "metadata": {},
          "execution_count": 38
        }
      ]
    },
    {
      "cell_type": "code",
      "source": [
        "shutil.copy(\n",
        "    \"/content/yolov5.zip\",\n",
        "    \"/content/drive/MyDrive/trabajo_iae/modelos/yolov5.zip\"\n",
        ")"
      ],
      "metadata": {
        "colab": {
          "base_uri": "https://localhost:8080/",
          "height": 35
        },
        "id": "t83xrJDvn-AM",
        "outputId": "7c3757f5-665b-48ea-9299-0329da527331"
      },
      "id": "t83xrJDvn-AM",
      "execution_count": null,
      "outputs": [
        {
          "output_type": "execute_result",
          "data": {
            "text/plain": [
              "'/content/drive/MyDrive/trabajo_iae/modelos/yolov5.zip'"
            ],
            "application/vnd.google.colaboratory.intrinsic+json": {
              "type": "string"
            }
          },
          "metadata": {},
          "execution_count": 39
        }
      ]
    },
    {
      "cell_type": "code",
      "source": [
        "shutil.rmtree(\"/content/runs\")"
      ],
      "metadata": {
        "id": "U3wWxqiMoXAf"
      },
      "id": "U3wWxqiMoXAf",
      "execution_count": null,
      "outputs": []
    },
    {
      "cell_type": "markdown",
      "id": "60abac6b-c86b-4197-bfa3-90380cbce038",
      "metadata": {
        "id": "60abac6b-c86b-4197-bfa3-90380cbce038"
      },
      "source": [
        "### Resultados"
      ]
    },
    {
      "cell_type": "markdown",
      "source": [
        "Extraemos el checkpoint:"
      ],
      "metadata": {
        "id": "YZzAhC3rlccT"
      },
      "id": "YZzAhC3rlccT"
    },
    {
      "cell_type": "code",
      "source": [
        "# No correr si ya se tiene la carpeta yolov5\n",
        "zip_path = \"/content/drive/MyDrive/trabajo_iae/modelos/yolov5.zip\"\n",
        "extract_path = \"/content/\"\n",
        "!unzip -q \"$zip_path\" -d \"$extract_path\""
      ],
      "metadata": {
        "id": "3bq_XbyXlbmF"
      },
      "id": "3bq_XbyXlbmF",
      "execution_count": null,
      "outputs": []
    },
    {
      "cell_type": "markdown",
      "id": "277b3fd0-67c4-489c-8e19-0ca39afc3ec2",
      "metadata": {
        "id": "277b3fd0-67c4-489c-8e19-0ca39afc3ec2"
      },
      "source": [
        "Obtenemos el mejor modelo de nuestro Checkpoint:"
      ]
    },
    {
      "cell_type": "code",
      "execution_count": null,
      "id": "750849ec-b338-4068-ac71-bfc96cf526f9",
      "metadata": {
        "id": "750849ec-b338-4068-ac71-bfc96cf526f9"
      },
      "outputs": [],
      "source": [
        "model_yolov5 = YOLO(\"yolov5/weights/best.pt\") # \"modelos/yolov5/weights/best.pt\""
      ]
    },
    {
      "cell_type": "markdown",
      "id": "f136a8f2-63dd-4d39-99db-a8344e104d4f",
      "metadata": {
        "id": "f136a8f2-63dd-4d39-99db-a8344e104d4f"
      },
      "source": [
        "Representamos la evolución de las pérdidas en los conjuntos de entrenamiento y validación a lo largo del entrenamiento:"
      ]
    },
    {
      "cell_type": "code",
      "execution_count": null,
      "id": "3db3ca44-954a-4301-8e81-c63dcf872ed6",
      "metadata": {
        "colab": {
          "base_uri": "https://localhost:8080/",
          "height": 287
        },
        "id": "3db3ca44-954a-4301-8e81-c63dcf872ed6",
        "outputId": "f7d7d968-0d33-48d0-90a9-f787c6b3846c"
      },
      "outputs": [
        {
          "output_type": "display_data",
          "data": {
            "text/plain": [
              "<Figure size 1200x300 with 4 Axes>"
            ],
            "image/png": "[encoded data removed]"
          },
          "metadata": {}
        }
      ],
      "source": [
        "plot_training_results_yolo(\"yolov5/results.csv\") # \"modelos/yolov5/results.csv\""
      ]
    },
    {
      "cell_type": "markdown",
      "id": "c589bf54-3cd2-439f-9989-754ccc2e8d28",
      "metadata": {
        "id": "c589bf54-3cd2-439f-9989-754ccc2e8d28"
      },
      "source": [
        "Medimos los FPS:"
      ]
    },
    {
      "cell_type": "code",
      "execution_count": null,
      "id": "a0f91532-d1cb-41c9-8d2f-672528be3738",
      "metadata": {
        "colab": {
          "base_uri": "https://localhost:8080/"
        },
        "id": "a0f91532-d1cb-41c9-8d2f-672528be3738",
        "outputId": "33e19a72-b499-4a8b-acf7-924f206313cd"
      },
      "outputs": [
        {
          "output_type": "stream",
          "name": "stdout",
          "text": [
            "FPS: 41.33\n"
          ]
        }
      ],
      "source": [
        "_ = measure_fps_yolo(model_yolov5, val_dataset_yolov5)"
      ]
    },
    {
      "cell_type": "markdown",
      "id": "5a92c922-4ddc-49be-a692-54657a57eff3",
      "metadata": {
        "id": "5a92c922-4ddc-49be-a692-54657a57eff3"
      },
      "source": [
        "Medimos la mAP con varios umbrales y promedio:"
      ]
    },
    {
      "cell_type": "code",
      "execution_count": null,
      "id": "766bc96d-bc5f-408c-877a-27fb0f0d62ff",
      "metadata": {
        "colab": {
          "base_uri": "https://localhost:8080/"
        },
        "id": "766bc96d-bc5f-408c-877a-27fb0f0d62ff",
        "outputId": "191e696b-7599-4b09-d3ff-d773eb9e258c"
      },
      "outputs": [
        {
          "output_type": "stream",
          "name": "stderr",
          "text": [
            "100%|██████████| 1627/1627 [00:38<00:00, 42.31it/s]\n"
          ]
        },
        {
          "output_type": "stream",
          "name": "stdout",
          "text": [
            "mAP@0.5: 0.8022\n",
            "mAP@0.55: 0.7975\n",
            "mAP@0.6: 0.7913\n",
            "mAP@0.65: 0.7687\n",
            "mAP@0.7: 0.7418\n",
            "mAP@0.75: 0.6976\n",
            "mAP@0.8: 0.6060\n",
            "mAP@0.85: 0.4617\n",
            "mAP@0.9: 0.2433\n",
            "mAP@0.95: 0.0301\n",
            "Average mAP: 0.5940\n"
          ]
        }
      ],
      "source": [
        "_ = measure_map_yolo(model_yolov5, val_dataset_yolov5, iou_list=np.round(np.linspace(0.5, 0.95, 10), 2))"
      ]
    },
    {
      "cell_type": "markdown",
      "id": "b37c51d7-2ce6-4135-a20a-ce3d5a023cdc",
      "metadata": {
        "id": "b37c51d7-2ce6-4135-a20a-ce3d5a023cdc"
      },
      "source": [
        "## Conjunto Test"
      ]
    },
    {
      "cell_type": "markdown",
      "id": "afb063ac-a0e0-4c30-8443-5f438f00ab68",
      "metadata": {
        "id": "afb063ac-a0e0-4c30-8443-5f438f00ab68"
      },
      "source": [
        "YOLOv5 parece ser el mejor modelo. Lo evaluamos sobre el conjunto test."
      ]
    },
    {
      "cell_type": "code",
      "execution_count": null,
      "id": "85b9190d-d3e5-41e9-b03e-8ebb8e2d31d1",
      "metadata": {
        "colab": {
          "base_uri": "https://localhost:8080/"
        },
        "id": "85b9190d-d3e5-41e9-b03e-8ebb8e2d31d1",
        "outputId": "ecb2a2ef-fac0-40a1-8ad5-f3e3cf92b99e"
      },
      "outputs": [
        {
          "output_type": "stream",
          "name": "stdout",
          "text": [
            "FPS: 41.56\n"
          ]
        }
      ],
      "source": [
        "_ = measure_fps_yolo(model_yolov5, test_dataset_yolov5)"
      ]
    },
    {
      "cell_type": "code",
      "execution_count": null,
      "id": "d1f9fbb2-8a5f-4d47-bd6c-2368d54a6031",
      "metadata": {
        "colab": {
          "base_uri": "https://localhost:8080/"
        },
        "id": "d1f9fbb2-8a5f-4d47-bd6c-2368d54a6031",
        "outputId": "dd4af69f-98ab-48e1-a31e-e266c48e9862"
      },
      "outputs": [
        {
          "output_type": "stream",
          "name": "stderr",
          "text": [
            "100%|██████████| 3234/3234 [01:17<00:00, 41.97it/s]\n"
          ]
        },
        {
          "output_type": "stream",
          "name": "stdout",
          "text": [
            "mAP@0.5: 0.8073\n",
            "mAP@0.55: 0.8032\n",
            "mAP@0.6: 0.7951\n",
            "mAP@0.65: 0.7774\n",
            "mAP@0.7: 0.7473\n",
            "mAP@0.75: 0.7031\n",
            "mAP@0.8: 0.6194\n",
            "mAP@0.85: 0.4727\n",
            "mAP@0.9: 0.2491\n",
            "mAP@0.95: 0.0282\n",
            "Average mAP: 0.6003\n"
          ]
        }
      ],
      "source": [
        "_ = measure_map_yolo(model_yolov5, test_dataset_yolov5, iou_list=np.round(np.linspace(0.5, 0.95, 10), 2))"
      ]
    }
  ],
  "metadata": {
    "kernelspec": {
      "display_name": "Python 3",
      "name": "python3"
    },
    "language_info": {
      "name": "python"
    },
    "colab": {
      "provenance": [],
      "toc_visible": true,
      "gpuType": "T4",
      "include_colab_link": true
    },
    "accelerator": "GPU"
  },
  "nbformat": 4,
  "nbformat_minor": 5
}